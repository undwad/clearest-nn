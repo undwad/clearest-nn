{
 "cells": [
  {
   "cell_type": "code",
   "execution_count": 2,
   "metadata": {},
   "outputs": [
    {
     "name": "stdout",
     "output_type": "stream",
     "text": [
      "ans = THE CLEAREST NEURAL NETWORK FRAMEWORK BY UNDWAD\r\n"
     ]
    }
   ],
   "source": [
    "clear all;\n",
    "\n",
    "global ipynb = 'imdb-prepare';\n",
    "\n",
    "source('clearest-nn.m');\n",
    "source('utils-logging.m');\n",
    "source('utils-training.m');\n",
    "\n",
    "log2file(tmp('log'));\n"
   ]
  },
  {
   "cell_type": "code",
   "execution_count": 3,
   "metadata": {},
   "outputs": [
    {
     "name": "stdout",
     "output_type": "stream",
     "text": [
      "data = cell [1 2]\r\n"
     ]
    }
   ],
   "source": [
    "% LOAD DATASET\n",
    "\n",
    "file = fopen('datasets/IMDB Dataset.csv');\n",
    "% header = textscan(file,'%q %q', 'Delimiter', ',');\n",
    "data = textscan(file,'%q %q', repeat=50000, 'Delimiter', ',');\n",
    "fclose(file);\n",
    "\n",
    "printsize('data');\n"
   ]
  },
  {
   "cell_type": "code",
   "execution_count": 4,
   "metadata": {},
   "outputs": [
    {
     "name": "stdout",
     "output_type": "stream",
     "text": [
      "path = tmp/imdb-prepare.labels.mat\n",
      "exists = 1\n",
      "Y = matrix [1 50000]\n",
      "Y(1:10) = [1 1 1 0 1 1 1 0 0 1]\n"
     ]
    }
   ],
   "source": [
    "% SAVE|LOAD LABELS\n",
    "\n",
    "path = tmp('labels.mat')\n",
    "\n",
    "% delete(path);\n",
    "\n",
    "exists = logical(exist(path))\n",
    "if exists\n",
    "    load('-binary', path, 'Y');\n",
    "else\n",
    "    Y = data{1,2}; \n",
    "    for i = 1:length(Y)\n",
    "        y = Y{i,1};\n",
    "        if length(y) != 8\n",
    "            y\n",
    "        end\n",
    "    end\n",
    "    Y = cell2mat(Y);\n",
    "    Y = Y == \"positive\";\n",
    "    Y = all(Y, dim=2);\n",
    "    Y = double(Y');\n",
    "    save('-binary', path, 'Y');\n",
    "end\n",
    "\n",
    "printsize('Y');\n",
    "printvar('Y(1:10)');\n"
   ]
  },
  {
   "cell_type": "code",
   "execution_count": 5,
   "metadata": {},
   "outputs": [
    {
     "name": "stdout",
     "output_type": "stream",
     "text": [
      "path = tmp/imdb-prepare.reviews.mat\n",
      "exists = 1\n",
      "R{2,1}{1,1} = \n",
      "{\n",
      "  [1,1] = A\n",
      "  [1,2] = wonderful\n",
      "  [1,3] = little\n",
      "  [1,4] = production\n",
      "}\n",
      "\n"
     ]
    }
   ],
   "source": [
    "% CONVERT DATASET\n",
    "\n",
    "path = tmp('reviews.mat')\n",
    "\n",
    "% delete(path);\n",
    "\n",
    "exists = logical(exist(path))\n",
    "if exists\n",
    "    load('-binary', path, 'R');\n",
    "else\n",
    "    t      = tic();\n",
    "    w2n    = struct();\n",
    "    R      = data{1,1}; \n",
    "    num_r  = rows(R);\n",
    "    printvar('num_r');    \n",
    "    printlog('\\n');\n",
    "    for ri = 1:num_r\n",
    "        r  = R{ri,1};\n",
    "        r  = strsplit(r, {'.','?','!','<br />'});\n",
    "        ns = columns(r);\n",
    "        for si = 1:ns\n",
    "            if toc(t) > 5\n",
    "                printlog('\\rri: %d, si: %d%s', ri, si, padright('',' ',30));\n",
    "                t = tic();\n",
    "            end\n",
    "            s = r{1,si};\n",
    "            s = strsplit(s, {' ','\\f','\\n','\\r','\\t','\\v',',',';',':','(',')','\"',\"'\"});\n",
    "            r{1,si} = s;\n",
    "        end\n",
    "        R{ri,1} = r;\n",
    "    end\n",
    "    printlog('\\n');    \n",
    "    save('-binary', path, 'R');\n",
    "end\n",
    "\n",
    "printvar('R{2,1}{1,1}');\n"
   ]
  },
  {
   "cell_type": "code",
   "execution_count": 6,
   "metadata": {},
   "outputs": [
    {
     "name": "stdout",
     "output_type": "stream",
     "text": [
      "path = tmp/imdb-prepare.w2n.mat\n",
      "exists = 1\n",
      "num_w = 122553\n",
      "w2n.(\"the\") = 287010\n",
      "w2n.(\"good\") = 14062\n",
      "w2n.(\"bad\") = 8505\n"
     ]
    }
   ],
   "source": [
    "% PREPARE WORD COUNTERS\n",
    "\n",
    "path = tmp('w2n.mat')\n",
    "\n",
    "% delete(path);\n",
    "\n",
    "exists = logical(exist(path))\n",
    "if exists\n",
    "    load('-binary', path, 'w2n');\n",
    "    num_w = numfields(w2n);\n",
    "else\n",
    "    t      = tic();\n",
    "    w2n    = struct();\n",
    "    num_r  = rows(R);\n",
    "    num_w  = 0;\n",
    "    max_n  = 0;\n",
    "    printvar('num_r');    \n",
    "    printlog('\\n');\n",
    "    for ri = 1:num_r/2\n",
    "        r  = R{ri,1};\n",
    "        ns = columns(r);\n",
    "        for si = 1:ns\n",
    "            if toc(t) > 5\n",
    "                printlog('\\rri: %d, si: %d%s', ri, si, padright('',' ',30));\n",
    "                t = tic();\n",
    "            end\n",
    "            s = r{1,si};\n",
    "            nw = columns(s);\n",
    "            for wi = 1:nw\n",
    "                w = s{1,wi};\n",
    "                if length(w) > 0\n",
    "                    if !isfield(w2n, w)\n",
    "                        w2n.(w) = 0;\n",
    "                        num_w  += 1; \n",
    "                    end\n",
    "                    n = w2n.(w) + 1;\n",
    "                    if n > max_n\n",
    "                        max_n = n;\n",
    "                    end\n",
    "                    w2n.(w) = n;\n",
    "                end\n",
    "            end\n",
    "        end\n",
    "    end\n",
    "    printlog('\\n');    \n",
    "    save('-binary', path, 'w2n');\n",
    "end\n",
    "\n",
    "printvar('num_w');\n",
    "printvar('w2n.(\"the\")');\n",
    "printvar('w2n.(\"good\")');\n",
    "printvar('w2n.(\"bad\")');\n"
   ]
  },
  {
   "cell_type": "code",
   "execution_count": 7,
   "metadata": {},
   "outputs": [
    {
     "name": "stdout",
     "output_type": "stream",
     "text": [
      "path = tmp/imdb-prepare.i2w.mat\n",
      "exists = 1\n",
      "i2w(1) = \n",
      "{\n",
      "  [1,1] = One\n",
      "}\n",
      "\n",
      "i2w(end) = \n",
      "{\n",
      "  [1,1] = underlays\n",
      "}\n",
      "\n"
     ]
    }
   ],
   "source": [
    "% PREPARE INDEX-TO-WORD\n",
    "\n",
    "path = tmp('i2w.mat')\n",
    "\n",
    "% delete(path);\n",
    "\n",
    "exists = logical(exist(path))\n",
    "if exists\n",
    "    load('-binary', path, 'i2w');\n",
    "else\n",
    "    t   = tic();\n",
    "    i2w = {};\n",
    "    printlog('\\n');    \n",
    "    for [n,w] = w2n\n",
    "        i2w{end+1} = w;\n",
    "    end\n",
    "    printlog('\\n');    \n",
    "    printvar('i2w{1}');\n",
    "    printvar('i2w{end}');\n",
    "    save('-binary', path, 'i2w');\n",
    "end\n",
    "\n",
    "printvar('i2w(1)');\n",
    "printvar('i2w(end)');\n"
   ]
  },
  {
   "cell_type": "code",
   "execution_count": 8,
   "metadata": {},
   "outputs": [
    {
     "name": "stdout",
     "output_type": "stream",
     "text": [
      "path = tmp/imdb-prepare.i2f.mat\n",
      "exists = 1\n",
      "i2f{1} = 0.019020\n",
      "i2f{end} = 0.000008\n"
     ]
    }
   ],
   "source": [
    "% PREPARE INDEX-TO-FREQUENCY\n",
    "\n",
    "path = tmp('i2f.mat')\n",
    "\n",
    "% delete(path);\n",
    "\n",
    "exists = logical(exist(path))\n",
    "if exists\n",
    "    load('-binary', path, 'i2f');\n",
    "else\n",
    "    t   = tic();\n",
    "    i2f = {};\n",
    "    printlog('\\n');    \n",
    "    for [n,w] = w2n\n",
    "        i2f{end+1} = n / num_w;\n",
    "    end\n",
    "    printlog('\\n');    \n",
    "    save('-binary', path, 'i2f');\n",
    "end\n",
    "\n",
    "printvar('i2f{1}');\n",
    "printvar('i2f{end}');\n"
   ]
  },
  {
   "cell_type": "code",
   "execution_count": 9,
   "metadata": {},
   "outputs": [
    {
     "name": "stdout",
     "output_type": "stream",
     "text": [
      "path = tmp/imdb-prepare.w2i.mat\n",
      "exists = 1\n",
      "w2i.(\"the\") = 3\n",
      "w2i.(\"good\") = 488\n",
      "w2i.(\"bad\") = 639\n"
     ]
    }
   ],
   "source": [
    "% PREPARE WORD-TO-INDEX\n",
    "\n",
    "path = tmp('w2i.mat')\n",
    "\n",
    "% delete(path);\n",
    "\n",
    "exists = logical(exist(path))\n",
    "if exists\n",
    "    load('-binary', path, 'w2i');\n",
    "else\n",
    "    t   = tic();\n",
    "    w2i = struct();\n",
    "    printlog('\\n');\n",
    "    for i = 1:num_w\n",
    "        w = i2w{i};\n",
    "        w2i.(w) = i;\n",
    "    end\n",
    "    printlog('\\n');    \n",
    "    save('-binary', path, 'w2i');\n",
    "end\n",
    "\n",
    "printvar('w2i.(\"the\")');\n",
    "printvar('w2i.(\"good\")');\n",
    "printvar('w2i.(\"bad\")');\n"
   ]
  },
  {
   "cell_type": "code",
   "execution_count": null,
   "metadata": {},
   "outputs": [
    {
     "name": "stdout",
     "output_type": "stream",
     "text": [
      "path = tmp/imdb-prepare.indexed.mat\n",
      "exists = 0\n",
      "num_r = 50000\n",
      "\n",
      "ri: 4, si: 5                               "
     ]
    }
   ],
   "source": [
    "% PREPARE INDEXED REVIEWS\n",
    "\n",
    "path = tmp('indexed.mat')\n",
    "\n",
    "% delete(path);\n",
    "\n",
    "exists = logical(exist(path))\n",
    "if exists\n",
    "    load('-binary', path, 'R');\n",
    "else\n",
    "    t     = tic();\n",
    "    P     = zeros(2,0);\n",
    "    num_r = rows(R);\n",
    "    printvar('num_r');    \n",
    "    printlog('\\n');\n",
    "    for ri = 1:num_r\n",
    "        r  = R{ri,1};\n",
    "        ns = columns(r);\n",
    "        for si = 1:ns\n",
    "            if toc(t) > 5\n",
    "                printlog('\\rri: %d, si: %d%s', ri, si, padright('',' ',30));\n",
    "                t = tic();\n",
    "            end\n",
    "            s = r{1,si};\n",
    "            nw = columns(s);\n",
    "            for wi = 1:nw\n",
    "                w       = s{1,wi};\n",
    "                if isfield(w2i, w)\n",
    "                    s{1,wi} = w2i.(w);\n",
    "                else\n",
    "                    s{1,wi} = 0;\n",
    "                end\n",
    "            end\n",
    "            r{1,si} = s;\n",
    "        end\n",
    "        R{ri,1} = r;\n",
    "    end\n",
    "    printlog('\\n');    \n",
    "    save('-binary', path, 'R');\n",
    "end\n",
    "\n",
    "printvar('count(indexed)');\n",
    "printvar('R{2,1}{1,1}');\n"
   ]
  },
  {
   "cell_type": "code",
   "execution_count": null,
   "metadata": {},
   "outputs": [],
   "source": [
    "% PREPARE WORD-PAIRS\n",
    "\n",
    "function x = subsampling(x, eps=0.001)\n",
    "    x = (sqrt(x / eps) + 1) * (eps / x);\n",
    "end\n",
    "\n",
    "function yes = should_keep(fraq)\n",
    "    yes = rand() <= subsampling(fraq);\n",
    "end\n",
    "\n",
    "function pairs = nearby_pairs(w2i, i2f, sent, wnd=1)\n",
    "    pairs = zeros(2, 0);\n",
    "    n     = count(sent);\n",
    "    for i = 1:n\n",
    "        w  = sent{i};\n",
    "        if isfield(w2i,w)\n",
    "            wi = w2i.(w);\n",
    "            if should_keep(i2f{wi})\n",
    "                delta = randi(wnd);\n",
    "                first = max(1, i-delta);\n",
    "                last  = min(n, i+delta);\n",
    "                for j = first:last\n",
    "                    w  = sent{j};\n",
    "                    if j != i && isfield(w2i,w)\n",
    "                        wj = w2i.(w);\n",
    "                        if should_keep(i2f{wj})\n",
    "                            pairs(:, end+1) = [wi; wj];\n",
    "                        end\n",
    "                    end\n",
    "                end\n",
    "            end\n",
    "        end\n",
    "    end\n",
    "end\n",
    "\n",
    "path = tmp('pairs.mat')\n",
    "\n",
    "% delete(path);\n",
    "\n",
    "exists = logical(exist(path))\n",
    "if exists\n",
    "    load('-binary', path, 'P');\n",
    "else\n",
    "    t     = tic();\n",
    "    P     = zeros(2,0);\n",
    "    num_r = rows(R);\n",
    "    printvar('num_r');    \n",
    "    printlog('\\n');\n",
    "    for ri = 1:num_r\n",
    "        if ri <= num_r/2\n",
    "            r  = R{ri,1};\n",
    "            ns = columns(r);\n",
    "            for si = 1:ns\n",
    "                if toc(t) > 5\n",
    "                    printlog('\\rri: %d, si: %d%s', ri, si, padright('',' ',30));\n",
    "                    t = tic();\n",
    "                end\n",
    "                s = r{1,si};\n",
    "                p = nearby_pairs(w2i, i2f, s, wnd=3);\n",
    "                P = [P p];\n",
    "            end\n",
    "        end\n",
    "    end\n",
    "    printlog('\\n');    \n",
    "    save('-binary', path, 'P');\n",
    "end\n",
    "\n",
    "printvar('count(pairs)');\n",
    "printvar('P(:,1)');\n",
    "printvar('P(:,end)');\n"
   ]
  },
  {
   "cell_type": "code",
   "execution_count": null,
   "metadata": {},
   "outputs": [],
   "source": []
  },
  {
   "cell_type": "code",
   "execution_count": null,
   "metadata": {},
   "outputs": [],
   "source": []
  },
  {
   "cell_type": "code",
   "execution_count": null,
   "metadata": {},
   "outputs": [],
   "source": [
    "% vocab   = deserialize(\"./trained/review_vocab.jls\")\n",
    "% samples = deserialize(\"./tmp/embedding_samples.jls\")\n",
    "\n",
    "% len = 10_000_000\n",
    "\n",
    "% word_idx_table = begin\n",
    "%     chances = last.(vocab) .^ (3/4)\n",
    "%     chances = chances ./ sum(chances)\n",
    "%     counts  = trunc.(Int, chances .* len)\n",
    "%     [ fill(i, n) for (i, n) in enumerate(counts) ] |> flatten |> collect |> shuffle\n",
    "% end\n",
    "\n",
    "% rand_word_idxs(n, idxs = []) = begin\n",
    "%     idx = rand(word_idx_table)\n",
    "%     if idx in idxs \n",
    "%         rand_word_idxs(n, idxs)\n",
    "%     elseif n > 1\n",
    "%         rand_word_idxs(n-1, [ idxs..., idx ])\n",
    "%     else\n",
    "%         [ idxs..., idx ]\n",
    "%     end\n",
    "% end\n",
    "\n",
    "% samples"
   ]
  },
  {
   "cell_type": "code",
   "execution_count": null,
   "metadata": {},
   "outputs": [],
   "source": [
    "%     ñ           = num_negative_samples\n",
    "%     targets     = [1, zeros(ñ)...]\n",
    "\n",
    "%         for iter in 1:typemax(Int)\n",
    "%             entropyʹ = 0\n",
    "%             for (si, (xi, zi)) in enumerate(samples)\n",
    "%                 # select targets\n",
    "%                 zis = rand_word_idxs(ñ, [zi])\n",
    "%                 # propagate\n",
    "%                 ys = Y[:, xi]\n",
    "%                 Zʹ = Z[zis, :]\n",
    "%                 zs = Zʹ * ys\n",
    "%                 zs = sigmoid.(zs)\n",
    "%                 # calcuate ΔZ\n",
    "%                 errs = zs .- targets         \n",
    "%                 ΔZ   = errs * ᵀ(ys)\n",
    "%                 # calcuate ΔY\n",
    "%                 errs = ᵀ(Zʹ) * errs\n",
    "%                 ΔY   = errs * 1\n",
    "%                 # backpropagate\n",
    "%                 Z[zis, :] .= Zʹ .- rate * ΔZ\n",
    "%                 Y[:, xi]  .= ys .- rate * ΔY\n",
    "%                 # calculate loss\n",
    "%                 Δentropyʹ = mean([ binary_crossentropy(t, z) for (t, z) in zip(targets, zs) ])\n",
    "%                 entropyʹ  = entropyʹ + Δentropyʹ\n",
    "%                 progress  = trunc((si / count) * 100; digits = 2)\n",
    "%                 try_report(\"$report_msg $progress%\")\n",
    "%             end\n",
    "%         end\n",
    "\n"
   ]
  }
 ],
 "metadata": {
  "kernelspec": {
   "display_name": "Octave",
   "language": "octave",
   "name": "octave"
  },
  "language_info": {
   "file_extension": ".m",
   "help_links": [
    {
     "text": "GNU Octave",
     "url": "https://www.gnu.org/software/octave/support.html"
    },
    {
     "text": "Octave Kernel",
     "url": "https://github.com/Calysto/octave_kernel"
    },
    {
     "text": "MetaKernel Magics",
     "url": "https://metakernel.readthedocs.io/en/latest/source/README.html"
    }
   ],
   "mimetype": "text/x-octave",
   "name": "octave",
   "version": "4.2.2"
  }
 },
 "nbformat": 4,
 "nbformat_minor": 2
}

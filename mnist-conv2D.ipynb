{
 "cells": [
  {
   "cell_type": "code",
   "execution_count": 1,
   "metadata": {
    "scrolled": true
   },
   "outputs": [
    {
     "name": "stdout",
     "output_type": "stream",
     "text": [
      "ans = THE CLEAREST NEURAL NETWORK FRAMEWORK BY UNDWAD\n",
      "classes = [0 1 2 3 4 5 6 7 8 9]\n",
      "oh = 1\n",
      "X = matrix [28 28 1 70000]\n",
      "Y = matrix [1 70000]\n",
      "oh_ = 1\n",
      "X_ = matrix [28 28 1 11110]\n",
      "Y_ = matrix [1 11110]\n",
      "Yoh_ = matrix [10 11110]\n",
      "unique(Y_) = [0 1 2 3 4 5 6 7 8 9]\n",
      "X1 = matrix [28 28 1 9999]\n",
      "Y1 = matrix [1 9999]\n",
      "Y1oh = matrix [10 9999]\n",
      "X2 = matrix [28 28 1 1111]\n",
      "Y2 = matrix [1 1111]\n",
      "Y2oh = matrix [10 1111]\n",
      "unique(Y1) = [0 1 2 3 4 5 6 7 8 9]\n",
      "unique(Y2) = [0 1 2 3 4 5 6 7 8 9]\n",
      "BBB = cell [1 313]\n",
      "BBB{1}.X = matrix [28 28 1 32]\n",
      "BBB{1}.Y = matrix [10 32]\n"
     ]
    },
    {
     "data": {
      "image/png": "[encoded data removed]",
      "text/plain": [
       "<IPython.core.display.Image object>"
      ]
     },
     "metadata": {},
     "output_type": "display_data"
    }
   ],
   "source": [
    "clear all;\n",
    "\n",
    "global ipynb = 'mnist-conv2D';\n",
    "\n",
    "source('clearest-nn.m');\n",
    "source('utils-logging.m');\n",
    "source('utils-training.m');\n",
    "\n",
    "log2file(tmp('log'));\n",
    "\n",
    "##########################################\n",
    "\n",
    "mnist     = load('datasets/mnist-original.mat');\n",
    "X         = mnist.data;\n",
    "X         = reshape(X, 28, 28, 1, []);\n",
    "Y         = mnist.label;\n",
    "X         = double(X) / 255;\n",
    "classes   = unique(Y); printvar('classes');\n",
    "Yoh       = onehots(Y, classes);  \n",
    "[X,Y,Yoh] = shuffle(X,Y,Yoh);\n",
    "oh        = all(Y == onecolds(Yoh, classes, -1))\n",
    "printsize('X');\n",
    "printsize('Y');\n",
    "\n",
    "idx = map(@(c) find(Y == c, 1111, 'first'), classes);\n",
    "X_           =   X(:,:,:,idx);\n",
    "Y_           =   Y(:,    idx);\n",
    "Yoh_         = Yoh(:,    idx);\n",
    "[X_,Y_,Yoh_] = shuffle(X_,Y_,Yoh_);\n",
    "oh_          = all(Y_ == onecolds(Yoh_, classes, -1))\n",
    "\n",
    "printsize('X_');\n",
    "printsize('Y_');\n",
    "printsize('Yoh_');\n",
    "printvar('unique(Y_)');\n",
    "\n",
    "m    = fix(count(X_) * 0.9);\n",
    "X1   =   X_(:,:,:,   1:m);\n",
    "Y1   =   Y_(:,       1:m);\n",
    "Y1oh = Yoh_(:,       1:m);\n",
    "X2   =   X_(:,:,:, m+1:end);\n",
    "Y2   =   Y_(:,     m+1:end);\n",
    "Y2oh = Yoh_(:,     m+1:end);\n",
    "\n",
    "printsize('X1');\n",
    "printsize('Y1');\n",
    "printsize('Y1oh');\n",
    "printsize('X2');\n",
    "printsize('Y2');\n",
    "printsize('Y2oh');\n",
    "printvar('unique(Y1)');\n",
    "printvar('unique(Y2)');\n",
    "\n",
    "BBB = minibatches(X1, Y1oh, 32);\n",
    "printsize('BBB');\n",
    "printsize('BBB{1}.X');\n",
    "printsize('BBB{1}.Y');\n",
    "\n",
    "function SHOW(x, y)\n",
    "    figure;\n",
    "    imshow(x);\n",
    "    title(disp(y));\n",
    "end\n",
    "\n",
    "function acc = TEST(CTX, X, Y, classes, alt)\n",
    "    m   = count(X);\n",
    "    Z   = predict(CTX, X);\n",
    "    Z   = maxcolds(Z, classes, alt);\n",
    "    acc = nnz(Z == Y) / m;\n",
    "end\n",
    "\n",
    "function TEST1(CTX, x, classes, alt)\n",
    "    x(:,:,:,2) = x;\n",
    "    z = predict(CTX, x);\n",
    "    x = x(:,:,:,1);\n",
    "    z = z(:,1);\n",
    "    z = maxcolds(z, classes, alt);\n",
    "    SHOW(x, z);\n",
    "end\n",
    "\n",
    "function CTX = LEARN(CTX, times=11, varargin)\n",
    "    CTX           = TUNE(CTX, varargin{:});\n",
    "    BBB           = evalin('caller', 'BBB');\n",
    "    X2            = evalin('caller', 'X2');\n",
    "    Y2            = evalin('caller', 'Y2');\n",
    "    classes       = evalin('caller', 'classes');\n",
    "    [CTX, ok]     = TRAIN(CTX, BBB, times); \n",
    "    test_accuracy = TEST(CTX, X2, Y2, classes, alt=-1);\n",
    "    printvar('test_accuracy');\n",
    "    global ipynb;\n",
    "    notifed = pushnotify(sprintf('%s: smth_learnt=%s, test_accuracy=%f', ipynb, bool2yesno(ok), test_accuracy))\n",
    "    if ok\n",
    "        save('-binary', tmp('ctx'), 'CTX');\n",
    "    end\n",
    "end\n",
    "\n",
    "[x,y] = pick(X1, Y1);\n",
    "SHOW(x,y);\n"
   ]
  },
  {
   "cell_type": "code",
   "execution_count": 2,
   "metadata": {},
   "outputs": [
    {
     "name": "stdout",
     "output_type": "stream",
     "text": [
      "ans = THE CLEAREST NEURAL NETWORK FRAMEWORK BY UNDWAD\n",
      "num_c = 10\n",
      "stats.iter = 302984\n"
     ]
    }
   ],
   "source": [
    "source('clearest-nn.m');\n",
    "rand('state', 1);\n",
    "\n",
    "num_c = count(classes);\n",
    "printvar('num_c');\n",
    "\n",
    "CTX = model( [28,28,1]\n",
    "           , {'conv2D', [15,15, 5], 4}, 'relu', {'pool2D', [8,8], 3, 'max'}\n",
    "           , 'reshape'\n",
    "           , {'dense', num_c}\n",
    "           , 'softmax'\n",
    "           );\n",
    "           \n",
    "CTX = optimization( CTX\n",
    "                  , {'L2_regularization', 0.0001}\n",
    "                  , {'momentum', 0.0001}\n",
    "%                   , {'nesterov', 0.01}\n",
    "                  , {'gradient_clipping',0.9}\n",
    "                  , 'stats'\n",
    "                  );\n",
    "\n",
    "CTX = objective(CTX, 'logloss');\n",
    "\n",
    "load('-binary', tmp('ctx'), 'CTX');\n",
    "\n",
    "% printmodel('CTX');\n",
    "printunit(CTX.optimizers, 'stats', 'iter');\n"
   ]
  },
  {
   "cell_type": "code",
   "execution_count": null,
   "metadata": {},
   "outputs": [],
   "source": []
  },
  {
   "cell_type": "code",
   "execution_count": null,
   "metadata": {},
   "outputs": [
    {
     "name": "stdout",
     "output_type": "stream",
     "text": [
      "momentum.rate = 0.005000\n",
      "\n",
      "starts_at = 10-May-2020 06:01:07\n",
      "GRAD_DIFF = 0.000000\n",
      "params_checked = 10"
     ]
    }
   ],
   "source": [
    "CTX = LEARN(CTX, times=11, {'momentum', 'rate', 0.005});"
   ]
  },
  {
   "cell_type": "code",
   "execution_count": null,
   "metadata": {},
   "outputs": [],
   "source": [
    "CTX = LEARN(CTX, times=11, {'momentum', 'rate', 0.005});"
   ]
  },
  {
   "cell_type": "code",
   "execution_count": null,
   "metadata": {},
   "outputs": [],
   "source": [
    "CTX = LEARN(CTX, times=11, {'momentum', 'rate', 0.005});"
   ]
  },
  {
   "cell_type": "code",
   "execution_count": null,
   "metadata": {},
   "outputs": [],
   "source": [
    "CTX = LEARN(CTX, times=11, {'momentum', 'rate', 0.005});"
   ]
  },
  {
   "cell_type": "code",
   "execution_count": null,
   "metadata": {},
   "outputs": [],
   "source": [
    "CTX = LEARN(CTX, times=11, {'momentum', 'rate', 0.005});"
   ]
  },
  {
   "cell_type": "code",
   "execution_count": null,
   "metadata": {},
   "outputs": [],
   "source": [
    "CTX = LEARN(CTX, times=11, {'momentum', 'rate', 0.005});"
   ]
  },
  {
   "cell_type": "code",
   "execution_count": null,
   "metadata": {},
   "outputs": [],
   "source": [
    "CTX = LEARN(CTX, times=11, {'momentum', 'rate', 0.005});"
   ]
  },
  {
   "cell_type": "code",
   "execution_count": null,
   "metadata": {},
   "outputs": [],
   "source": [
    "CTX = LEARN(CTX, times=11, {'momentum', 'rate', 0.005});"
   ]
  },
  {
   "cell_type": "code",
   "execution_count": null,
   "metadata": {},
   "outputs": [],
   "source": [
    "CTX = LEARN(CTX, times=11, {'momentum', 'rate', 0.005});"
   ]
  },
  {
   "cell_type": "code",
   "execution_count": null,
   "metadata": {},
   "outputs": [],
   "source": [
    "CTX = LEARN(CTX, times=11, {'momentum', 'rate', 0.005});"
   ]
  },
  {
   "cell_type": "code",
   "execution_count": null,
   "metadata": {},
   "outputs": [],
   "source": [
    "CTX = LEARN(CTX, times=11, {'momentum', 'rate', 0.005});"
   ]
  },
  {
   "cell_type": "code",
   "execution_count": null,
   "metadata": {},
   "outputs": [],
   "source": [
    "CTX = LEARN(CTX, times=11, {'momentum', 'rate', 0.005});"
   ]
  },
  {
   "cell_type": "code",
   "execution_count": null,
   "metadata": {},
   "outputs": [],
   "source": [
    "CTX = LEARN(CTX, times=11, {'momentum', 'rate', 0.005});"
   ]
  },
  {
   "cell_type": "code",
   "execution_count": null,
   "metadata": {},
   "outputs": [],
   "source": [
    "CTX = LEARN(CTX, times=11, {'momentum', 'rate', 0.005});"
   ]
  },
  {
   "cell_type": "code",
   "execution_count": null,
   "metadata": {},
   "outputs": [],
   "source": [
    "CTX = LEARN(CTX, times=11, {'momentum', 'rate', 0.005});"
   ]
  },
  {
   "cell_type": "code",
   "execution_count": null,
   "metadata": {},
   "outputs": [],
   "source": [
    "CTX = LEARN(CTX, times=11, {'momentum', 'rate', 0.001});"
   ]
  },
  {
   "cell_type": "code",
   "execution_count": null,
   "metadata": {},
   "outputs": [],
   "source": [
    "CTX = LEARN(CTX, times=11, {'momentum', 'rate', 0.001});"
   ]
  },
  {
   "cell_type": "code",
   "execution_count": null,
   "metadata": {},
   "outputs": [],
   "source": [
    "CTX = LEARN(CTX, times=11, {'momentum', 'rate', 0.001});"
   ]
  },
  {
   "cell_type": "code",
   "execution_count": null,
   "metadata": {},
   "outputs": [],
   "source": [
    "CTX = LEARN(CTX, times=11, {'momentum', 'rate', 0.001});"
   ]
  },
  {
   "cell_type": "code",
   "execution_count": null,
   "metadata": {},
   "outputs": [],
   "source": [
    "CTX = LEARN(CTX, times=11, {'momentum', 'rate', 0.001});"
   ]
  },
  {
   "cell_type": "code",
   "execution_count": null,
   "metadata": {},
   "outputs": [],
   "source": [
    "CTX = LEARN(CTX, times=11, {'momentum', 'rate', 0.001});"
   ]
  },
  {
   "cell_type": "code",
   "execution_count": null,
   "metadata": {},
   "outputs": [],
   "source": [
    "CTX = LEARN(CTX, times=11, {'momentum', 'rate', 0.001});"
   ]
  },
  {
   "cell_type": "code",
   "execution_count": null,
   "metadata": {},
   "outputs": [],
   "source": [
    "CTX = LEARN(CTX, times=11, {'momentum', 'rate', 0.001});"
   ]
  },
  {
   "cell_type": "code",
   "execution_count": null,
   "metadata": {},
   "outputs": [],
   "source": [
    "CTX = LEARN(CTX, times=11, {'momentum', 'rate', 0.001});"
   ]
  },
  {
   "cell_type": "code",
   "execution_count": null,
   "metadata": {},
   "outputs": [],
   "source": [
    "CTX = LEARN(CTX, times=11, {'momentum', 'rate', 0.001});"
   ]
  },
  {
   "cell_type": "code",
   "execution_count": null,
   "metadata": {},
   "outputs": [],
   "source": [
    "CTX = LEARN(CTX, times=11, {'momentum', 'rate', 0.001});"
   ]
  },
  {
   "cell_type": "code",
   "execution_count": null,
   "metadata": {},
   "outputs": [],
   "source": [
    "CTX = LEARN(CTX, times=11, {'momentum', 'rate', 0.001});"
   ]
  },
  {
   "cell_type": "code",
   "execution_count": null,
   "metadata": {},
   "outputs": [],
   "source": [
    "CTX = LEARN(CTX, times=11, {'momentum', 'rate', 0.001});"
   ]
  },
  {
   "cell_type": "code",
   "execution_count": null,
   "metadata": {},
   "outputs": [],
   "source": [
    "CTX = LEARN(CTX, times=11, {'momentum', 'rate', 0.001});"
   ]
  },
  {
   "cell_type": "code",
   "execution_count": null,
   "metadata": {},
   "outputs": [],
   "source": [
    "CTX = LEARN(CTX, times=11, {'momentum', 'rate', 0.001});"
   ]
  },
  {
   "cell_type": "code",
   "execution_count": null,
   "metadata": {},
   "outputs": [],
   "source": [
    "CTX = LEARN(CTX, times=11, {'momentum', 'rate', 0.001});"
   ]
  },
  {
   "cell_type": "code",
   "execution_count": null,
   "metadata": {},
   "outputs": [],
   "source": [
    "CTX = LEARN(CTX, times=11, {'momentum', 'rate', 0.001});"
   ]
  },
  {
   "cell_type": "code",
   "execution_count": null,
   "metadata": {},
   "outputs": [],
   "source": [
    "CTX = LEARN(CTX, times=11, {'momentum', 'rate', 0.001});"
   ]
  },
  {
   "cell_type": "code",
   "execution_count": null,
   "metadata": {},
   "outputs": [],
   "source": [
    "CTX = LEARN(CTX, times=11, {'momentum', 'rate', 0.001});"
   ]
  },
  {
   "cell_type": "code",
   "execution_count": null,
   "metadata": {},
   "outputs": [],
   "source": [
    "CTX = LEARN(CTX, times=11, {'momentum', 'rate', 0.001});"
   ]
  },
  {
   "cell_type": "code",
   "execution_count": null,
   "metadata": {},
   "outputs": [],
   "source": []
  },
  {
   "cell_type": "code",
   "execution_count": null,
   "metadata": {},
   "outputs": [],
   "source": []
  },
  {
   "cell_type": "code",
   "execution_count": null,
   "metadata": {},
   "outputs": [],
   "source": [
    "train_accuracy = TEST(CTX, X1, Y1, classes, alt=-1)\n",
    "test_accuracy = TEST(CTX, X2, Y2, classes, alt=-1)"
   ]
  },
  {
   "cell_type": "code",
   "execution_count": null,
   "metadata": {},
   "outputs": [],
   "source": [
    "TEST1(CTX, pick(X2), classes, alt=-1);"
   ]
  },
  {
   "cell_type": "code",
   "execution_count": null,
   "metadata": {},
   "outputs": [],
   "source": [
    "% CTX = model(12288, {'dense', 25}, 'relu', {'dense', 12}, 'relu', {'dense', num_c}, 'softmax');\n",
    "\n",
    "% NOW = 19-Apr-2020 15:34:09\n",
    "% train_accuracy =  0.251388888888889\n",
    "\n",
    "% 1000 0.067233\n",
    "\n",
    "% train_accuracy =  0.956944444444444\n",
    "% NOW = 19-Apr-2020 16:13:38\n",
    "% test_accuracy =  0.862500000000000"
   ]
  },
  {
   "cell_type": "code",
   "execution_count": null,
   "metadata": {},
   "outputs": [],
   "source": []
  }
 ],
 "metadata": {
  "kernelspec": {
   "display_name": "Octave",
   "language": "octave",
   "name": "octave"
  },
  "language_info": {
   "file_extension": ".m",
   "help_links": [
    {
     "text": "GNU Octave",
     "url": "https://www.gnu.org/software/octave/support.html"
    },
    {
     "text": "Octave Kernel",
     "url": "https://github.com/Calysto/octave_kernel"
    },
    {
     "text": "MetaKernel Magics",
     "url": "https://metakernel.readthedocs.io/en/latest/source/README.html"
    }
   ],
   "mimetype": "text/x-octave",
   "name": "octave",
   "version": "4.2.2"
  }
 },
 "nbformat": 4,
 "nbformat_minor": 2
}

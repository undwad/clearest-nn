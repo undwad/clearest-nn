{
 "cells": [
  {
   "cell_type": "code",
   "execution_count": 31,
   "metadata": {},
   "outputs": [
    {
     "name": "stdout",
     "output_type": "stream",
     "text": [
      "ans = THE CLEAREST NEURAL NETWORK FRAMEWORK BY UNDWAD\n",
      "X = range [1 61]\n",
      "Y = matrix [1 61]\n",
      "BBB = cell [1 1]\n",
      "BBB{1}.X = matrix [1 61]\n",
      "BBB{1}.Y = matrix [1 61]\n",
      "CTX.layers{1}.unit = maxout\n",
      "_.unit = maxout\n",
      "_.W = matrix [4 1 8]\n",
      "_.b = matrix [4 8]\n",
      "_.size_x = [1 1]\n",
      "_.size_z = [8 1]\n",
      "_.num_u = 4\n",
      "_.num_p = 64\n",
      "_.cfg = cell [1 3]\n",
      "CTX.layers{2}.unit = dense\n",
      "_.unit = dense\n",
      "_.W = matrix [1 8]\n",
      "_.b = 0\n",
      "_.size_x = [8 1]\n",
      "_.size_z = [1 1]\n",
      "_.num_p = 9\n",
      "_.cfg = cell [1 2]\n",
      "CTX.optimizers{1}.unit = nesterov\n",
      "_.unit = nesterov\n",
      "_.rate = 0.010000\n",
      "_.mu = 0.900000\n",
      "_.ggg1 = matrix [73 1]\n",
      "_.ggg2 = matrix [73 1]\n",
      "_.cfg = cell [1 2]\n",
      "CTX.optimizers{2}.unit = gradient_clipping\n",
      "_.unit = gradient_clipping\n",
      "_.maxnorm = 0.330000\n",
      "_.cfg = cell [1 2]\n",
      "CTX.optimizers{3}.unit = stats\n",
      "_.unit = stats\n",
      "_.iter = 0\n",
      "_.cfg = stats\n",
      "CTX.objective.unit = mse\n",
      "_.unit = mse\n",
      "_.cfg = mse\n",
      "CTX.num_p = 73\n",
      "\n",
      "starts_at = 10-Jun-2020 07:13:34\n",
      "GRAD_DIFF = 0.000000\n",
      "params_checked = 73\n",
      "\n",
      "1: 0.803685            gradient-norm: 0.002675  update-ratio: 0.001050                            \n",
      "9: 0.133753 ↓          gradient-norm: 0.091138  update-ratio: 0.034244                            \n",
      "14: 0.381524 ↑         gradient-norm: 0.034283  update-ratio: 0.012379                            \n",
      "21: 0.079582 ↓         gradient-norm: 0.065246  update-ratio: 0.024877                            \n",
      "26: 0.211441 ↑         gradient-norm: 0.020399  update-ratio: 0.007957                            \n",
      "34: 0.044342 ↓         gradient-norm: 0.046740  update-ratio: 0.017440                            \n",
      "40: 0.114600 ↑         gradient-norm: 0.015307  update-ratio: 0.005531                            \n",
      "46: 0.030766 ↓         gradient-norm: 0.035785  update-ratio: 0.013181                            \n",
      "52: 0.067528 ↑         gradient-norm: 0.008980  update-ratio: 0.003354                            \n",
      "60: 0.022358 ↓         gradient-norm: 0.024090  update-ratio: 0.008737                            \n",
      "66: 0.041080 ↑         gradient-norm: 0.007558  update-ratio: 0.002690                            \n",
      "73: 0.017802 ↓         gradient-norm: 0.017489  update-ratio: 0.006278                            \n",
      "79: 0.027023 ↑         gradient-norm: 0.005908  update-ratio: 0.002128                            \n",
      "86: 0.014404 ↓         gradient-norm: 0.012984  update-ratio: 0.004602                            \n",
      "92: 0.018759 ↑         gradient-norm: 0.004802  update-ratio: 0.001682                            \n",
      "99: 0.011881 ↓         gradient-norm: 0.009709  update-ratio: 0.003407                            \n",
      "105: 0.013796 ↑        gradient-norm: 0.004147  update-ratio: 0.001456                            \n",
      "113: 0.009867 ↓        gradient-norm: 0.006834  update-ratio: 0.002372                            \n",
      "118: 0.010648 ↑        gradient-norm: 0.003602  update-ratio: 0.001242                            \n",
      "126: 0.008343 ↓        gradient-norm: 0.005307  update-ratio: 0.001828                            \n",
      "130: 0.008600 ↑        gradient-norm: 0.003314  update-ratio: 0.001141                            \n",
      "140: 0.007142 ↓        gradient-norm: 0.003900  update-ratio: 0.001330                            \n",
      "143: 0.007188 ↑        gradient-norm: 0.002921  update-ratio: 0.000994                            \n",
      "501: 0.001039 ↓        gradient-norm: 0.000586  update-ratio: 0.000183                            \n",
      "\n",
      "GRAD_DIFF = 0.000000\n",
      "params_checked = 73\n",
      "overall: objective ↓, accuracy  \n",
      "ends_at = 10-Jun-2020 07:13:39\n",
      "\n"
     ]
    },
    {
     "data": {
      "image/png": "[encoded data removed]",
      "text/plain": [
       "<IPython.core.display.Image object>"
      ]
     },
     "metadata": {},
     "output_type": "display_data"
    },
    {
     "data": {
      "image/png": "[encoded data removed]",
      "text/plain": [
       "<IPython.core.display.Image object>"
      ]
     },
     "metadata": {},
     "output_type": "display_data"
    },
    {
     "data": {
      "image/png": "[encoded data removed]",
      "text/plain": [
       "<IPython.core.display.Image object>"
      ]
     },
     "metadata": {},
     "output_type": "display_data"
    }
   ],
   "source": [
    "rand('state', 1);\n",
    "\n",
    "global ipynb = 'regression-1';\n",
    "\n",
    "source('clearest-nn.m');\n",
    "source('utils-logging.m');\n",
    "source('utils-training.m');\n",
    "\n",
    "f = @(x) x.^2;\n",
    "X = -1:+0.05:2;\n",
    "Y = f(X);\n",
    "\n",
    "printsize('X');\n",
    "printsize('Y');\n",
    "\n",
    "[X, Y] = shuffle(X, Y);\n",
    "\n",
    "BBB = minibatches(X, Y);\n",
    "\n",
    "printsize('BBB');\n",
    "printsize('BBB{1}.X');\n",
    "printsize('BBB{1}.Y');\n",
    "\n",
    "function TEST(CTX, X, Y)\n",
    "    Z = predict(CTX, X);        \n",
    "    figure;\n",
    "    hold on;\n",
    "    scatter(X, Y, 'g');\n",
    "    scatter(X, Z, 'b');\n",
    "end\n",
    "\n",
    "function test(CTX, X, Y, BBB, times=501)\n",
    "    CTX = objective(CTX, 'mse');\n",
    "    printmodel('CTX');\n",
    "    TEST(CTX, X, Y);\n",
    "    CTX = TRAIN(CTX, BBB, times);\n",
    "    TEST(CTX, X, Y);\n",
    "end\n",
    "\n",
    "CTX = model(1, {'maxout', 8, 4}, {'dense', 1} );\n",
    "CTX = optimization(CTX, {'nesterov', 0.01}, {'gradient_clipping',0.33}, 'stats');\n",
    "test(CTX, X, Y, BBB);\n"
   ]
  },
  {
   "cell_type": "code",
   "execution_count": null,
   "metadata": {},
   "outputs": [],
   "source": [
    "CTX = model(1, {'maxout', 8, 4}, {'dense', 1} );\n",
    "CTX = optimization(CTX, {'nesterov', 0.01}, {'gradient_clipping',0.33}, 'stats');\n",
    "test(CTX, X, Y, BBB);"
   ]
  },
  {
   "cell_type": "code",
   "execution_count": null,
   "metadata": {},
   "outputs": [],
   "source": [
    "CTX = model(1, {'maxout', 8, 4}, {'dense', 1} );\n",
    "CTX = optimization(CTX, {'momentum', 0.1});\n",
    "test(CTX, X, Y, BBB);"
   ]
  },
  {
   "cell_type": "code",
   "execution_count": null,
   "metadata": {},
   "outputs": [],
   "source": [
    "CTX = model(1, {'maxout', 8, 3}, {'dense', 1} );\n",
    "CTX = optimization(CTX, {'adam', 0.1});\n",
    "test(CTX, X, Y, BBB);"
   ]
  },
  {
   "cell_type": "code",
   "execution_count": null,
   "metadata": {},
   "outputs": [],
   "source": [
    "CTX = model(1, {'maxout', 8}, {'dense', 1} );\n",
    "CTX = optimization(CTX, {'adam', 0.1});\n",
    "test(CTX, X, Y, BBB);"
   ]
  },
  {
   "cell_type": "code",
   "execution_count": null,
   "metadata": {},
   "outputs": [],
   "source": [
    "CTX = model(1, {'maxout', 8}, {'maxout', 1} );\n",
    "CTX = optimization(CTX, {'rprop', 1});\n",
    "test(CTX, X, Y, BBB);"
   ]
  },
  {
   "cell_type": "code",
   "execution_count": null,
   "metadata": {},
   "outputs": [],
   "source": [
    "CTX = model(1, {'dense', 8}, 'sigmoid', {'dense', 1});\n",
    "CTX = optimization(CTX, {'descent', 0.1});\n",
    "test(CTX, X, Y, BBB);"
   ]
  },
  {
   "cell_type": "code",
   "execution_count": null,
   "metadata": {},
   "outputs": [],
   "source": [
    "CTX = model(1, {'dense', 8}, 'tanh', {'dense', 1});\n",
    "CTX = optimization(CTX, {'descent', 0.1});\n",
    "test(CTX, X, Y, BBB);"
   ]
  },
  {
   "cell_type": "code",
   "execution_count": null,
   "metadata": {},
   "outputs": [],
   "source": [
    "CTX = model(1, {'dense', 8}, 'relu', {'dense', 1});\n",
    "CTX = optimization(CTX, {'descent', 0.1});\n",
    "test(CTX, X, Y, BBB);"
   ]
  },
  {
   "cell_type": "code",
   "execution_count": null,
   "metadata": {},
   "outputs": [],
   "source": [
    "CTX = model(1, {'dense', 8}, 'sigmoid', {'dense', 1});\n",
    "CTX = optimization(CTX, {'gradient_clipping', 0.25}, {'descent', 0.1});\n",
    "test(CTX, X, Y, BBB);"
   ]
  },
  {
   "cell_type": "code",
   "execution_count": null,
   "metadata": {},
   "outputs": [],
   "source": [
    "CTX = model(1, {'dense', 8}, 'tanh', {'dense', 1});\n",
    "CTX = optimization(CTX, {'gradient_clipping', 0.25}, {'descent', 0.1});\n",
    "test(CTX, X, Y, BBB);"
   ]
  },
  {
   "cell_type": "code",
   "execution_count": null,
   "metadata": {},
   "outputs": [],
   "source": [
    "CTX = model(1, {'dense', 8}, 'relu', {'dense', 1});\n",
    "CTX = optimization(CTX, {'gradient_clipping', 0.25}, {'descent', 0.1});\n",
    "test(CTX, X, Y, BBB);"
   ]
  },
  {
   "cell_type": "code",
   "execution_count": null,
   "metadata": {},
   "outputs": [],
   "source": [
    "source('clearest-nn.m');\n",
    "CTX = model(1, {'dense', 8}, 'sigmoid', {'dense', 1});\n",
    "CTX = optimization(CTX, {'L2_regularization', 0.1}, {'descent', 0.1});\n",
    "test(CTX, X, Y, BBB);"
   ]
  },
  {
   "cell_type": "code",
   "execution_count": null,
   "metadata": {},
   "outputs": [],
   "source": [
    "CTX = model(1, {'dense', 8}, 'tanh', {'dense', 1});\n",
    "CTX = optimization(CTX, {'L2_regularization', 0.1}, {'descent', 0.1});\n",
    "test(CTX, X, Y, BBB);"
   ]
  },
  {
   "cell_type": "code",
   "execution_count": null,
   "metadata": {},
   "outputs": [],
   "source": [
    "CTX = model(1, {'dense', 8}, 'relu', {'dense', 1});\n",
    "CTX = optimization(CTX, {'L2_regularization', 0.1}, {'descent', 0.1});\n",
    "test(CTX, X, Y, BBB);"
   ]
  },
  {
   "cell_type": "code",
   "execution_count": null,
   "metadata": {},
   "outputs": [],
   "source": [
    "CTX = model(1, {'dense', 8}, 'sigmoid', {'dense', 1});\n",
    "CTX = optimization(CTX, {'adam', 0.1});\n",
    "test(CTX, X, Y, BBB);"
   ]
  },
  {
   "cell_type": "code",
   "execution_count": null,
   "metadata": {},
   "outputs": [],
   "source": [
    "CTX = model(1, {'dense', 8}, 'tanh', {'dense', 1});\n",
    "CTX = optimization(CTX, {'adam', 0.1});\n",
    "test(CTX, X, Y, BBB);"
   ]
  },
  {
   "cell_type": "code",
   "execution_count": null,
   "metadata": {},
   "outputs": [],
   "source": [
    "CTX = model(1, {'dense', 8}, 'relu', {'dense', 1});\n",
    "CTX = optimization(CTX, {'adam', 0.1});\n",
    "test(CTX, X, Y, BBB);"
   ]
  },
  {
   "cell_type": "code",
   "execution_count": null,
   "metadata": {},
   "outputs": [],
   "source": [
    "CTX = model(1, {'dense', 8}, 'sigmoid', {'dense', 1});\n",
    "CTX = optimization(CTX, {'gradient_clipping', 0.25}, {'adam', 0.1});\n",
    "test(CTX, X, Y, BBB);"
   ]
  },
  {
   "cell_type": "code",
   "execution_count": null,
   "metadata": {},
   "outputs": [],
   "source": [
    "CTX = model(1, {'dense', 8}, 'tanh', {'dense', 1});\n",
    "CTX = optimization(CTX, {'gradient_clipping', 0.25}, {'adam', 0.1});\n",
    "test(CTX, X, Y, BBB);"
   ]
  },
  {
   "cell_type": "code",
   "execution_count": null,
   "metadata": {},
   "outputs": [],
   "source": [
    "CTX = model(1, {'dense', 8}, 'relu', {'dense', 1});\n",
    "CTX = optimization(CTX, {'gradient_clipping', 0.25}, {'adam', 0.1});\n",
    "test(CTX, X, Y, BBB);"
   ]
  },
  {
   "cell_type": "code",
   "execution_count": null,
   "metadata": {},
   "outputs": [],
   "source": [
    "CTX = model(1, {'dense', 8}, 'sigmoid', {'dense', 1});\n",
    "CTX = optimization(CTX, {'L2_regularization', 0.1}, {'adam', 0.1});\n",
    "test(CTX, X, Y, BBB);"
   ]
  },
  {
   "cell_type": "code",
   "execution_count": null,
   "metadata": {},
   "outputs": [],
   "source": [
    "CTX = model(1, {'dense', 8}, 'tanh', {'dense', 1});\n",
    "CTX = optimization(CTX, {'L2_regularization', 0.1}, {'adam', 0.1});\n",
    "test(CTX, X, Y, BBB);"
   ]
  },
  {
   "cell_type": "code",
   "execution_count": null,
   "metadata": {},
   "outputs": [],
   "source": [
    "CTX = model(1, {'dense', 8}, 'relu', {'dense', 1});\n",
    "CTX = optimization(CTX, {'L2_regularization', 0.1}, {'adam', 0.1});\n",
    "test(CTX, X, Y, BBB);"
   ]
  },
  {
   "cell_type": "code",
   "execution_count": null,
   "metadata": {},
   "outputs": [],
   "source": [
    "CTX = model(1, {'dense', 8}, 'sigmoid', {'dropout', 0.80}, {'dense', 1});\n",
    "CTX = optimization(CTX, {'adam', 0.1});\n",
    "test(CTX, X, Y, BBB);"
   ]
  },
  {
   "cell_type": "code",
   "execution_count": null,
   "metadata": {},
   "outputs": [],
   "source": [
    "CTX = model(1, {'dense', 8}, 'tanh', {'dropout', 0.80}, {'dense', 1});\n",
    "CTX = optimization(CTX, {'adam', 0.1});\n",
    "test(CTX, X, Y, BBB);"
   ]
  },
  {
   "cell_type": "code",
   "execution_count": null,
   "metadata": {},
   "outputs": [],
   "source": [
    "CTX = model(1, {'dense', 8}, 'relu', {'dropout', 0.80}, {'dense', 1});\n",
    "CTX = optimization(CTX, {'adam', 0.1});\n",
    "test(CTX, X, Y, BBB);"
   ]
  },
  {
   "cell_type": "code",
   "execution_count": null,
   "metadata": {},
   "outputs": [],
   "source": [
    "CTX = model(1, {'dense', 8}, 'batchnorm', 'sigmoid', {'dense', 1});\n",
    "CTX = optimization(CTX, {'adam', 0.1});\n",
    "test(CTX, X, Y, BBB);"
   ]
  },
  {
   "cell_type": "code",
   "execution_count": null,
   "metadata": {},
   "outputs": [],
   "source": [
    "CTX = model(1, {'dense', 8}, 'batchnorm', 'tanh', {'dense', 1});\n",
    "CTX = optimization(CTX, {'adam', 0.1});\n",
    "test(CTX, X, Y, BBB);"
   ]
  },
  {
   "cell_type": "code",
   "execution_count": null,
   "metadata": {},
   "outputs": [],
   "source": [
    "CTX = model(1, {'dense', 8}, 'batchnorm', 'relu', {'dense', 1});\n",
    "CTX = optimization(CTX, {'adam', 0.1});\n",
    "test(CTX, X, Y, BBB);"
   ]
  },
  {
   "cell_type": "code",
   "execution_count": null,
   "metadata": {},
   "outputs": [],
   "source": []
  },
  {
   "cell_type": "code",
   "execution_count": null,
   "metadata": {},
   "outputs": [],
   "source": []
  },
  {
   "cell_type": "code",
   "execution_count": null,
   "metadata": {},
   "outputs": [],
   "source": []
  }
 ],
 "metadata": {
  "kernelspec": {
   "display_name": "Octave",
   "language": "octave",
   "name": "octave"
  },
  "language_info": {
   "file_extension": ".m",
   "help_links": [
    {
     "text": "GNU Octave",
     "url": "https://www.gnu.org/software/octave/support.html"
    },
    {
     "text": "Octave Kernel",
     "url": "https://github.com/Calysto/octave_kernel"
    },
    {
     "text": "MetaKernel Magics",
     "url": "https://metakernel.readthedocs.io/en/latest/source/README.html"
    }
   ],
   "mimetype": "text/x-octave",
   "name": "octave",
   "version": "4.2.2"
  }
 },
 "nbformat": 4,
 "nbformat_minor": 2
}

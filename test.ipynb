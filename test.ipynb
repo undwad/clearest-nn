{
 "cells": [
  {
   "cell_type": "code",
   "execution_count": 94,
   "metadata": {},
   "outputs": [
    {
     "name": "stdout",
     "output_type": "stream",
     "text": [
      "ans =  8.4346\n",
      "ans =  6.5455\n",
      "ans =  2464\n",
      "ans =  17248\n"
     ]
    }
   ],
   "source": [
    "% Ширина: 112\n",
    "% Длинна: 610\n",
    "% До крепления: 101\n",
    "% Креплений: 13\n",
    "% Расстяние между креплениями: 47\n",
    "% От стены до крепления слева: 10\n",
    "% От стены до крепления справа: 6\n",
    "% Провод слева: 330\n",
    "% Провод справа: 270\n",
    "\n",
    "1.12*6.10/0.81\n",
    "8*9/11\n",
    "11*224\n",
    "ans*7"
   ]
  },
  {
   "cell_type": "code",
   "execution_count": 164,
   "metadata": {
    "collapsed": true
   },
   "outputs": [
    {
     "name": "stdout",
     "output_type": "stream",
     "text": [
      "x =\n",
      "\n",
      "   1\n",
      "   2\n",
      "\n",
      "z =\n",
      "\n",
      "   3\n",
      "   4\n",
      "   5\n",
      "\n",
      "Sz =\n",
      "\n",
      "Diagonal Matrix\n",
      "\n",
      "   1   0   0\n",
      "   0   1   0\n",
      "   0   0   1\n",
      "   0   0   0\n",
      "   0   0   0\n",
      "\n",
      "Sx =\n",
      "\n",
      "   0   0\n",
      "   0   0\n",
      "   0   0\n",
      "   1   0\n",
      "   0   1\n",
      "\n",
      "zx =\n",
      "\n",
      "   3\n",
      "   4\n",
      "   5\n",
      "   1\n",
      "   2\n",
      "\n"
     ]
    }
   ],
   "source": [
    "function [Sz, Sx] = stack_transform_matricies(nz, nx)\n",
    "    Sz = shift(diag(ones(nz,1),nz+nx,nz), 0,dim=1);\n",
    "    Sx = shift(diag(ones(nx,1),nz+nx,nx),nz,dim=1);\n",
    "end\n",
    "\n",
    "x = [1;2]\n",
    "z = [3;4;5]\n",
    "\n",
    "[Sz, Sx] = stack_transform_matricies(rows(z),rows(x))\n",
    "\n",
    "zx = Sz*z + Sx*x"
   ]
  },
  {
   "cell_type": "code",
   "execution_count": 194,
   "metadata": {},
   "outputs": [
    {
     "name": "stdout",
     "output_type": "stream",
     "text": [
      "Z =\n",
      "\n",
      "   0.079567   0.265220   0.247364   0.996793\n",
      "   0.641660   0.106984   0.219862   0.820672\n",
      "\n",
      "z =\n",
      "\n",
      "   0.079567\n",
      "   0.641660\n",
      "\n",
      "ZZ =\n",
      "\n",
      "   1.13146   0.95186\n",
      "   0.95186   1.14502\n",
      "\n",
      "zz =\n",
      "\n",
      "   0.0063309   0.0510550\n",
      "   0.0510550   0.4117278\n",
      "\n",
      "ans =\n",
      "\n",
      "   0.0063309   0.0510550\n",
      "   0.0510550   0.4117278\n",
      "\n",
      "ans =  0.41806\n"
     ]
    }
   ],
   "source": [
    "Z = rand(2,4)\n",
    "z = Z(:,1)\n",
    "ZZ = Z*Z'\n",
    "zz = z*z'\n",
    "[z z]*[z z]'/2\n",
    "dot(z,z')"
   ]
  },
  {
   "cell_type": "code",
   "execution_count": 195,
   "metadata": {},
   "outputs": [
    {
     "name": "stdout",
     "output_type": "stream",
     "text": [
      "k =  0.50000\n",
      "n =  1\n",
      "ans =  1\n",
      "n =  2\n",
      "ans =  1\n",
      "n =  3\n",
      "ans =  1\n",
      "n =  4\n",
      "ans =  1\n",
      "n =  5\n",
      "ans =  1\n",
      "n =  6\n",
      "ans =  1\n",
      "n =  7\n",
      "ans =  1\n",
      "n =  8\n",
      "ans =  1\n",
      "n =  9\n",
      "ans =  1\n",
      "n =  10\n",
      "ans =  1\n",
      "n =  11\n",
      "ans =  1\n",
      "n =  12\n",
      "ans =  1\n",
      "n =  13\n",
      "ans =  1\n",
      "n =  14\n",
      "ans =  1\n",
      "n =  15\n",
      "ans =  1\n",
      "n =  16\n",
      "ans =  1\n",
      "n =  17\n",
      "ans =  1\n",
      "n =  18\n",
      "ans =  1\n",
      "n =  19\n",
      "ans =  1\n",
      "n =  20\n",
      "ans =  1\n",
      "n =  21\n",
      "ans =  1\n",
      "n =  22\n",
      "ans =  1\n",
      "n =  23\n",
      "ans =  1\n",
      "n =  24\n",
      "ans =  1\n",
      "n =  25\n",
      "ans =  1\n",
      "n =  26\n",
      "ans =  1\n",
      "n =  27\n",
      "ans =  1\n",
      "n =  28\n",
      "ans =  1\n",
      "n =  29\n",
      "ans =  1\n",
      "n =  30\n",
      "ans =  1\n",
      "n =  31\n",
      "ans =  1\n",
      "n =  32\n",
      "ans =  1\n",
      "n =  33\n",
      "ans =  1\n",
      "n =  34\n",
      "ans =  1\n",
      "n =  35\n",
      "ans =  1\n",
      "n =  36\n",
      "ans =  1\n",
      "n =  37\n",
      "ans =  1\n",
      "n =  38\n",
      "ans =  1\n",
      "n =  39\n",
      "ans =  1\n",
      "n =  40\n",
      "ans =  1\n",
      "n =  41\n",
      "ans =  1\n",
      "n =  42\n",
      "ans =  1\n",
      "n =  43\n",
      "ans =  1\n",
      "n =  44\n",
      "ans =  1\n",
      "n =  45\n",
      "ans =  1\n",
      "n =  46\n",
      "ans =  1\n",
      "n =  47\n",
      "ans =  1\n",
      "n =  48\n",
      "ans =  1\n",
      "n =  49\n",
      "ans =  1\n",
      "n =  50\n",
      "ans =  1\n",
      "n =  51\n",
      "ans =  1\n",
      "n =  52\n",
      "ans =  1\n",
      "n =  53\n",
      "ans =  1\n",
      "n =  54\n",
      "ans =  1\n",
      "n =  55\n",
      "ans =  1\n",
      "n =  56\n",
      "ans =  1\n",
      "n =  57\n",
      "ans =  1\n",
      "n =  58\n",
      "ans =  1\n",
      "n =  59\n",
      "ans =  1\n",
      "n =  60\n",
      "ans =  1\n",
      "n =  61\n",
      "ans =  1\n",
      "n =  62\n",
      "ans =  1\n",
      "n =  63\n",
      "ans =  1\n",
      "n =  64\n",
      "ans =  1\n",
      "n =  65\n",
      "ans =  1\n",
      "n =  66\n",
      "ans =  1\n",
      "n =  67\n",
      "ans =  1\n",
      "n =  68\n",
      "ans =  1\n",
      "n =  69\n",
      "ans =  1\n",
      "n =  70\n",
      "ans =  1\n",
      "n =  71\n",
      "ans =  1\n",
      "n =  72\n",
      "ans =  1\n",
      "n =  73\n",
      "ans =  1\n",
      "n =  74\n",
      "ans =  1\n",
      "n =  75\n",
      "ans =  1\n",
      "n =  76\n",
      "ans =  1\n",
      "n =  77\n",
      "ans =  1\n",
      "n =  78\n",
      "ans =  1\n",
      "n =  79\n",
      "ans =  1\n",
      "n =  80\n",
      "ans =  1\n",
      "n =  81\n",
      "ans =  1\n",
      "n =  82\n",
      "ans =  1\n",
      "n =  83\n",
      "ans =  1\n",
      "n =  84\n",
      "ans =  1\n",
      "n =  85\n",
      "ans =  1\n",
      "n =  86\n",
      "ans =  1\n",
      "n =  87\n",
      "ans =  1\n",
      "n =  88\n",
      "ans =  1\n",
      "n =  89\n",
      "ans =  1\n",
      "n =  90\n",
      "ans =  1\n",
      "n =  91\n",
      "ans =  1\n",
      "n =  92\n",
      "ans =  1\n",
      "n =  93\n",
      "ans =  1\n",
      "n =  94\n",
      "ans =  1\n",
      "n =  95\n",
      "ans =  1\n",
      "n =  96\n",
      "ans =  1\n",
      "n =  97\n",
      "ans =  1\n",
      "n =  98\n",
      "ans =  1\n",
      "n =  99\n",
      "ans =  1\n",
      "n =  100\n",
      "ans =  1\n"
     ]
    }
   ],
   "source": [
    "function x = test_weigted_avg(k, n)\n",
    "    x = (1-k)^n;\n",
    "    for i = 1:n\n",
    "        x += k*(1-k)^(n-i);\n",
    "    end\n",
    "end\n",
    "\n",
    "k = 0.5\n",
    "for n = 1:100\n",
    "    n\n",
    "    test_weigted_avg(k,n)    \n",
    "end"
   ]
  },
  {
   "cell_type": "code",
   "execution_count": 9,
   "metadata": {},
   "outputs": [
    {
     "name": "stdout",
     "output_type": "stream",
     "text": [
      "ans =  0.63673\n",
      "ans =  0.63673\n"
     ]
    }
   ],
   "source": [
    "nchoosek(40,2) / nchoosek(50,2)\n",
    "40/50 * 39/49"
   ]
  },
  {
   "cell_type": "code",
   "execution_count": 19,
   "metadata": {},
   "outputs": [
    {
     "name": "stdout",
     "output_type": "stream",
     "text": [
      "ans = THE CLEAREST NEURAL NETWORK FRAMEWORK BY UNDWAD\n",
      "x =\n",
      "\n",
      "  scalar structure containing the fields:\n",
      "\n",
      "    a = a\n",
      "\n",
      "y =\n",
      "\n",
      "  scalar structure containing the fields:\n",
      "\n",
      "    b = b\n",
      "    a = b\n",
      "\n",
      "y =\n",
      "\n",
      "  scalar structure containing the fields:\n",
      "\n",
      "    b = b\n",
      "    a = b\n",
      "\n",
      "xy =\n",
      "\n",
      "  scalar structure containing the fields:\n",
      "\n",
      "    b = b\n",
      "    a = a\n",
      "\n"
     ]
    }
   ],
   "source": [
    "source('clearest-nn.m');\n",
    "x.a = 'a'\n",
    "y.a = 'b'\n",
    "y.b = 'b'\n",
    "xy = mergereplace(y,x)"
   ]
  },
  {
   "cell_type": "code",
   "execution_count": 28,
   "metadata": {},
   "outputs": [
    {
     "name": "stdout",
     "output_type": "stream",
     "text": [
      "M =\n",
      "\n",
      " Columns 1 through 6:\n",
      "\n",
      "   3.8785e-01  -1.9171e+00   1.0374e+00   0.0000e+00   2.0753e+00   2.4641e-03\n",
      "\n",
      " Columns 7 through 12:\n",
      "\n",
      "  -7.7133e-01   0.0000e+00   6.6672e-01   1.1075e+00   1.7974e+00   0.0000e+00\n",
      "\n",
      " Columns 13 through 16:\n",
      "\n",
      "   2.4477e+06   2.9402e+06   5.0864e+06   1.0000e+00\n",
      "\n",
      "M =\n",
      "\n",
      "   3.8785e-01   2.0753e+00   6.6672e-01   2.4477e+06\n",
      "  -1.9171e+00   2.4641e-03   1.1075e+00   2.9402e+06\n",
      "   1.0374e+00  -7.7133e-01   1.7974e+00   5.0864e+06\n",
      "   0.0000e+00   0.0000e+00   0.0000e+00   1.0000e+00\n",
      "\n",
      "x =\n",
      "\n",
      "  -7.16990  -0.77694   0.00000   1.00000\n",
      "\n",
      "ans =\n",
      "\n",
      "  -7.16990\n",
      "  -0.77694\n",
      "   0.00000\n",
      "   1.00000\n",
      "\n",
      "ans =\n",
      "\n",
      "   2.4477e+06\n",
      "   2.9402e+06\n",
      "   5.0864e+06\n",
      "   1.0000e+00\n",
      "\n"
     ]
    }
   ],
   "source": [
    "M = [0.387850845167067, -1.91708509693545, 1.03741974556384, 0, 2.07531524296433, 0.0024641140141802, -0.771326030895215, 0, 0.666724560592778, 1.10754771216624, 1.79741472706002, 0, 2447740.89311184, 2940177.65302832, 5086429.55978499, 1 ]\n",
    "M = reshape(M, 4, 4)\n",
    "x = [ -7.16989613, -0.776942790, 0, 1 ]\n",
    "% { 2447736.50, 2940191.50, 5086422.50, 1.00000000 }\n",
    "x'\n",
    "M*x'"
   ]
  },
  {
   "cell_type": "code",
   "execution_count": 33,
   "metadata": {},
   "outputs": [
    {
     "name": "stdout",
     "output_type": "stream",
     "text": [
      "ctx =\n",
      "\n",
      "  scalar structure containing the fields:\n",
      "\n",
      "    a = A\n",
      "\n",
      "ctx =\n",
      "\n",
      "  scalar structure containing the fields:\n",
      "\n",
      "    a = A\n",
      "\n",
      "ctx_b =  100\n"
     ]
    }
   ],
   "source": []
  },
  {
   "cell_type": "code",
   "execution_count": 43,
   "metadata": {},
   "outputs": [
    {
     "name": "stdout",
     "output_type": "stream",
     "text": [
      "wages =  158700\n",
      "overwork =  75823\n",
      "total =  234523\n",
      "percent =  2345.2\n",
      "diff =  30198\n",
      "diff =  12.876\n",
      "recv =  204325\n",
      "recv =  87.124\n"
     ]
    }
   ],
   "source": [
    "wages = 158700\n",
    "overwork = 75823\n",
    "total = wages + overwork\n",
    "percent = total / 100\n",
    "diff = 30198\n",
    "\n",
    "diff /= percent\n",
    "\n",
    "recv = 138369 + 65956\n",
    "recv /= percent"
   ]
  },
  {
   "cell_type": "code",
   "execution_count": 48,
   "metadata": {},
   "outputs": [
    {
     "name": "stdout",
     "output_type": "stream",
     "text": [
      "x =\n",
      "\n",
      "   1   1   1   1   1\n",
      "   2   2   2   2   2\n",
      "   3   3   3   3   3\n",
      "\n",
      "y =\n",
      "\n",
      "    0    0    0   11    0\n",
      "    0    0   22    0    0\n",
      "    0   33    0    0    0\n",
      "\n",
      "ans =\n",
      "\n",
      "    1    1    1   11    1\n",
      "    2    2   22    2    2\n",
      "    3   33    3    3    3\n",
      "\n"
     ]
    }
   ],
   "source": [
    "x = [1 1 1 1 1; 2 2 2 2 2; 3 3 3 3 3]\n",
    "y = [ 0 0 0 11 0; 0 0 22 0 0; 0 33 0 0 0 ]\n",
    "x .* (y == 0) .+ y"
   ]
  },
  {
   "cell_type": "code",
   "execution_count": 97,
   "metadata": {},
   "outputs": [
    {
     "name": "stdout",
     "output_type": "stream",
     "text": [
      "ans = THE CLEAREST NEURAL NETWORK FRAMEWORK BY UNDWAD\n",
      "x =\n",
      "\n",
      "   0.00000   0.00000   0.11500   0.49164   0.00000\n",
      "   0.00000   0.00000   0.24550   0.85471   0.00000\n",
      "   0.00000   0.00000   0.44453   0.19385   0.00000\n",
      "\n",
      "x =\n",
      "\n",
      "   0.00000\n",
      "   0.56210\n",
      "   0.00000\n",
      "   0.05561\n",
      "   0.00000\n",
      "   0.90128\n",
      "   0.00000\n",
      "   0.00000\n",
      "   0.00000\n",
      "\n"
     ]
    }
   ],
   "source": [
    "source('clearest-nn.m');\n",
    "x = setsome(zeros(3,5), rand(3,2), :, 3:4)\n",
    "x = setsome(zeros(9,1), rand(3,1), [2,4,6])"
   ]
  },
  {
   "cell_type": "code",
   "execution_count": 95,
   "metadata": {},
   "outputs": [
    {
     "name": "stdout",
     "output_type": "stream",
     "text": [
      "error: 'setsome' undefined near line 1 column 5\r\n"
     ]
    }
   ],
   "source": []
  },
  {
   "cell_type": "code",
   "execution_count": null,
   "metadata": {},
   "outputs": [],
   "source": []
  }
 ],
 "metadata": {
  "kernelspec": {
   "display_name": "Octave",
   "language": "octave",
   "name": "octave"
  },
  "language_info": {
   "file_extension": ".m",
   "help_links": [
    {
     "text": "GNU Octave",
     "url": "https://www.gnu.org/software/octave/support.html"
    },
    {
     "text": "Octave Kernel",
     "url": "https://github.com/Calysto/octave_kernel"
    },
    {
     "text": "MetaKernel Magics",
     "url": "https://metakernel.readthedocs.io/en/latest/source/README.html"
    }
   ],
   "mimetype": "text/x-octave",
   "name": "octave",
   "version": "4.2.2"
  }
 },
 "nbformat": 4,
 "nbformat_minor": 2
}

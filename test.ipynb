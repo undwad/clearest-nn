{
 "cells": [
  {
   "cell_type": "code",
   "execution_count": 1,
   "metadata": {},
   "outputs": [
    {
     "name": "stdout",
     "output_type": "stream",
     "text": [
      "ans =  8.4346\n",
      "ans =  6.5455\n",
      "ans =  2464\n",
      "ans =  17248\n"
     ]
    }
   ],
   "source": [
    "% Ширина: 112\n",
    "% Длинна: 610\n",
    "% До крепления: 101\n",
    "% Креплений: 13\n",
    "% Расстяние между креплениями: 47\n",
    "% От стены до крепления слева: 10\n",
    "% От стены до крепления справа: 6\n",
    "% Провод слева: 330\n",
    "% Провод справа: 270\n",
    "\n",
    "1.12*6.10/0.81\n",
    "8*9/11\n",
    "11*224\n",
    "ans*7"
   ]
  },
  {
   "cell_type": "code",
   "execution_count": 2,
   "metadata": {},
   "outputs": [
    {
     "name": "stdout",
     "output_type": "stream",
     "text": [
      "ans =  0.63673\n",
      "ans =  0.63673\n"
     ]
    }
   ],
   "source": [
    "nchoosek(40,2) / nchoosek(50,2)\n",
    "40/50 * 39/49"
   ]
  },
  {
   "cell_type": "code",
   "execution_count": 84,
   "metadata": {},
   "outputs": [
    {
     "name": "stdout",
     "output_type": "stream",
     "text": [
      "ans = THE CLEAREST NEURAL NETWORK FRAMEWORK BY UNDWAD\n",
      "xy =\n",
      "\n",
      "  scalar structure containing the fields:\n",
      "\n",
      "    a = a\n",
      "    b = b\n",
      "\n"
     ]
    }
   ],
   "source": [
    "source('clearest-nn.m');\n",
    "x.a = 'a';\n",
    "y.a = 'b';\n",
    "y.b = 'b';\n",
    "xy = mergereplace(y,x)"
   ]
  },
  {
   "cell_type": "code",
   "execution_count": 90,
   "metadata": {},
   "outputs": [],
   "source": [
    "function x = mnrnd (n, p, s)\n",
    "\n",
    "  # Check arguments\n",
    "  if (nargin == 3)\n",
    "    if (! isscalar (n) || n < 0 || round (n) != n)\n",
    "      error (\"mnrnd: n must be a non-negative integer\");\n",
    "    endif\n",
    "    if (! isvector (p) || any (p < 0 | p > 1))\n",
    "      error (\"mnrnd: p must be a vector of probabilities\");\n",
    "    endif\n",
    "    if (! isscalar (s) || s < 0 || round (s) != s)\n",
    "      error (\"mnrnd: s must be a non-negative integer\");\n",
    "    endif\n",
    "  elseif (nargin == 2)\n",
    "    if (isvector (p) && size (p, 1) > 1)\n",
    "      p = p';\n",
    "    endif\n",
    "    if (! isvector (n) || any (n < 0 | round (n) != n) || size (n, 2) > 1)\n",
    "      error (\"mnrnd: n must be a non-negative integer column vector\");\n",
    "    endif\n",
    "    if (! ismatrix (p) || isempty (p) || any (p < 0 | p > 1))\n",
    "      error (\"mnrnd: p must be a non-empty matrix with rows of probabilities\");\n",
    "    endif\n",
    "    if (! isscalar (n) && size (p, 1) > 1 && length (n) != size (p, 1))\n",
    "      error (\"mnrnd: the length of n must match the number of rows of p\");\n",
    "    endif\n",
    "  else\n",
    "    print_usage ();\n",
    "  endif\n",
    "\n",
    "  # Adjust input sizes\n",
    "  if (nargin == 3)\n",
    "    n = n * ones (s, 1);\n",
    "    p = repmat (p(:)', s, 1);\n",
    "  elseif (nargin == 2)\n",
    "    if (isscalar (n) && size (p, 1) > 1)\n",
    "      n = n * ones (size (p, 1), 1);\n",
    "    elseif (size (p, 1) == 1)\n",
    "      p = repmat (p, length (n), 1);\n",
    "    endif\n",
    "  endif\n",
    "  sz = size (p);\n",
    "\n",
    "  # Upper bounds of categories\n",
    "  ub = cumsum (p, 2);\n",
    "  # Make sure that the greatest upper bound is 1\n",
    "  gub = ub(:, end);\n",
    "  ub(:, end) = 1;\n",
    "  # Lower bounds of categories\n",
    "  lb = [zeros(sz(1), 1) ub(:, 1:(end-1))];\n",
    "\n",
    "  # Draw multinomial samples\n",
    "  x = zeros (sz);\n",
    "  for i = 1:sz(1)\n",
    "    # Draw uniform random numbers\n",
    "    r = repmat (rand (n(i), 1), 1, sz(2));\n",
    "    # Compare the random numbers of r to the cumulated probabilities of p and\n",
    "    # count the number of samples for each category\n",
    "    x(i, :) =  sum (r <= repmat (ub(i, :), n(i), 1) & r > repmat (lb(i, :), n(i), 1), 1);\n",
    "  endfor\n",
    "  # Set invalid rows to NaN\n",
    "  k = (abs (gub - 1) > 1e-6);\n",
    "  x(k, :) = NaN;\n",
    "\n",
    "endfunction\n",
    "\n"
   ]
  },
  {
   "cell_type": "code",
   "execution_count": 81,
   "metadata": {},
   "outputs": [
    {
     "name": "stdout",
     "output_type": "stream",
     "text": [
      "v =\r\n",
      "\r\n",
      "   11.2145\r\n",
      "    2.4883\r\n",
      "   10.2384\r\n",
      "   -8.7483\r\n",
      "   -4.0922\r\n",
      "\r\n"
     ]
    }
   ],
   "source": [
    "% v = fix(randn(5, 1) * 100)\n",
    "v = randn(5, 1) * 10\n",
    "% v = randn(5, 1)"
   ]
  },
  {
   "cell_type": "code",
   "execution_count": 91,
   "metadata": {},
   "outputs": [
    {
     "name": "stdout",
     "output_type": "stream",
     "text": [
      "p =\n",
      "\n",
      "   7.2624e-01\n",
      "   1.1786e-04\n",
      "   2.7364e-01\n",
      "   1.5536e-09\n",
      "   1.6347e-07\n",
      "\n",
      "ans =  1.00000\n",
      "p =\n",
      "\n",
      "   0.72624\n",
      "   0.00012\n",
      "   0.27364\n",
      "   0.00000\n",
      "   0.00000\n",
      "\n",
      "p =\n",
      "\n",
      "   0.72624\n",
      "   0.00000\n",
      "   0.00000\n",
      "   0.00000\n",
      "   0.00000\n",
      "\n",
      "ans =  0.72624\n",
      "oh =\n",
      "\n",
      "   0   0   0   0   1\n",
      "\n",
      "i =  5\n"
     ]
    }
   ],
   "source": [
    "p = softmax(v)\n",
    "sum(p)\n",
    "p(find(v < 0)) = 0\n",
    "p(2:5) = 0\n",
    "sum(p)\n",
    "oh = mnrnd(1, p)\n",
    "i = find(oh)"
   ]
  },
  {
   "cell_type": "code",
   "execution_count": null,
   "metadata": {},
   "outputs": [],
   "source": []
  },
  {
   "cell_type": "code",
   "execution_count": null,
   "metadata": {},
   "outputs": [],
   "source": []
  },
  {
   "cell_type": "code",
   "execution_count": null,
   "metadata": {},
   "outputs": [],
   "source": []
  }
 ],
 "metadata": {
  "kernelspec": {
   "display_name": "Octave",
   "language": "octave",
   "name": "octave"
  },
  "language_info": {
   "file_extension": ".m",
   "help_links": [
    {
     "text": "GNU Octave",
     "url": "https://www.gnu.org/software/octave/support.html"
    },
    {
     "text": "Octave Kernel",
     "url": "https://github.com/Calysto/octave_kernel"
    },
    {
     "text": "MetaKernel Magics",
     "url": "https://metakernel.readthedocs.io/en/latest/source/README.html"
    }
   ],
   "mimetype": "text/x-octave",
   "name": "octave",
   "version": "4.2.2"
  }
 },
 "nbformat": 4,
 "nbformat_minor": 2
}

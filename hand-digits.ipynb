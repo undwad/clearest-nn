{
 "cells": [
  {
   "cell_type": "code",
   "execution_count": 1,
   "metadata": {},
   "outputs": [
    {
     "name": "stdout",
     "output_type": "stream",
     "text": [
      "ans = THE CLEAREST NEURAL NETWORK FRAMEWORK BY UNDWAD\n",
      "classes = [0 1 2 3 4 5]\n",
      "X1 = uint8 matrix [3 64 64 1080]\n",
      "Y1 = int64 matrix [1 1080]\n",
      "X2 = uint8 matrix [3 64 64 120]\n",
      "Y2 = int64 matrix [1 120]\n",
      "classes = [0 1 2 3]\n",
      "lim = 4\n",
      "X1 = matrix [12288 720]\n",
      "Y1oh = matrix [4 720]\n",
      "lim = 4\n",
      "X2 = matrix [12288 80]\n",
      "Y2oh = matrix [4 80]\n",
      "oh1 = 1\n",
      "oh2 = 1\n",
      "BBB = cell [1 23]\n",
      "BBB{1}.X = matrix [12288 32]\n",
      "BBB{1}.Y = matrix [4 32]\n"
     ]
    },
    {
     "data": {
      "image/png": "[encoded data removed]",
      "text/plain": [
       "<IPython.core.display.Image object>"
      ]
     },
     "metadata": {},
     "output_type": "display_data"
    }
   ],
   "source": [
    "clear all;\n",
    "\n",
    "global ipynb = 'hand-digits';\n",
    "\n",
    "source('clearest-nn.m');\n",
    "source('utils-logging.m');\n",
    "source('utils-training.m');\n",
    "\n",
    "% log2file(tmp('log'));\n",
    "\n",
    "##########################################\n",
    "\n",
    "data    = load('datasets/train_signs.h5');\n",
    "classes = data.list_classes;\n",
    "X1      = data.train_set_x;\n",
    "Y1      = data.train_set_y;\n",
    "printvar('classes');\n",
    "printsize('X1');\n",
    "printsize('Y1');\n",
    "\n",
    "data   = load('datasets/test_signs.h5');\n",
    "X2 = data.test_set_x;\n",
    "Y2 = data.test_set_y;\n",
    "printsize('X2');\n",
    "printsize('Y2');\n",
    "\n",
    "function [X, Y, Yoh] = PREPARE(X, Y, classes)\n",
    "    lim = max(classes) + 1\n",
    "    idx = find(Y < lim);\n",
    "    X   = slice(X, [], idx);\n",
    "    Y   = slice(Y, [], idx);\n",
    "    X   = reshape(X, [], count(X));\n",
    "    X   = double(X) / 255;\n",
    "    Yoh = onehots(Y, classes);    \n",
    "end\n",
    "\n",
    "classes = classes(find(classes < 4));\n",
    "printvar('classes');\n",
    "\n",
    "[X1, Y1, Y1oh] = PREPARE(X1, Y1, classes);\n",
    "printsize('X1');\n",
    "printsize('Y1oh');\n",
    "\n",
    "[X2, Y2, Y2oh] = PREPARE(X2, Y2, classes);\n",
    "printsize('X2');\n",
    "printsize('Y2oh');\n",
    "\n",
    "[X1, Y1, Y1oh] = shuffle(X1, Y1, Y1oh);\n",
    "[X2, Y2, Y2oh] = shuffle(X2, Y2, Y2oh);\n",
    "\n",
    "oh1 = all(Y1 == onecolds(Y1oh, classes, -1))\n",
    "oh2 = all(Y2 == onecolds(Y2oh, classes, -1))\n",
    "\n",
    "BBB = minibatches(X1, Y1oh, 32);\n",
    "printsize('BBB');\n",
    "printsize('BBB{1}.X');\n",
    "printsize('BBB{1}.Y');\n",
    "\n",
    "function SHOW(x)\n",
    "    x = reshape(x, 3, 64, 64, 1);\n",
    "    x = permute(x, [2, 3, 1]);\n",
    "    figure;\n",
    "    imshow(x);\n",
    "end\n",
    "\n",
    "function acc = TEST(CTX, X, Y, classes, alt)\n",
    "    m   = count(X);\n",
    "    Z   = predict(CTX, X);\n",
    "    Z   = maxcolds(Z, classes, alt);\n",
    "    acc = nnz(Z == Y) / m;\n",
    "end\n",
    "\n",
    "function TEST1(CTX, x, classes, alt)\n",
    "    z = predict(CTX, x);\n",
    "    z = maxcolds(z, classes, alt);\n",
    "    SHOW(x);\n",
    "    title(disp(z));\n",
    "end\n",
    "\n",
    "SHOW(pick(X1));\n"
   ]
  },
  {
   "cell_type": "code",
   "execution_count": 2,
   "metadata": {},
   "outputs": [
    {
     "name": "stdout",
     "output_type": "stream",
     "text": [
      "X1cov = matrix [12288 12288]\r\n"
     ]
    }
   ],
   "source": [
    "[X1norm, X1avg, X1var] = normalize(X1);\n",
    "X1cov = X1norm * X1norm';\n",
    "printsize('X1cov');"
   ]
  },
  {
   "cell_type": "code",
   "execution_count": null,
   "metadata": {},
   "outputs": [],
   "source": [
    "[U,S,V] = svd(X1cov);\n",
    "% eigvals = diag(S);\n",
    "U = U(:, 100);\n",
    "printsize('U');"
   ]
  },
  {
   "cell_type": "code",
   "execution_count": null,
   "metadata": {},
   "outputs": [],
   "source": [
    "X1prj = U' * X1norm;\n",
    "printsize('X1prj');"
   ]
  },
  {
   "cell_type": "code",
   "execution_count": null,
   "metadata": {},
   "outputs": [],
   "source": [
    "function SHOW(x)\n",
    "    x = U * x;\n",
    "    x = x .* X1var;\n",
    "    x = x .+ X1avg;\n",
    "    x = reshape(x, 3, 64, 64, 1);\n",
    "    x = permute(x, [2, 3, 1]);\n",
    "    figure;\n",
    "    imshow(x);\n",
    "end\n",
    "\n",
    "% BBB = minibatches(X1prj, Y1oh, 32);\n",
    "% printsize('BBB');\n",
    "% printsize('BBB{1}.X');\n",
    "% printsize('BBB{1}.Y');\n",
    "\n",
    "SHOW(pick(X1prj));\n"
   ]
  },
  {
   "cell_type": "code",
   "execution_count": null,
   "metadata": {},
   "outputs": [],
   "source": [
    "source('clearest-nn.m');\n",
    "\n",
    "rand('state', 1);\n",
    "\n",
    "num_c = count(classes)\n",
    "\n",
    "CTX = model(12288, {'dense', 25}, 'relu', {'dense', 12}, 'relu', {'dense', num_c}, 'softmax');\n",
    "\n",
    "num_p = CTX.num_p\n",
    "\n",
    "CTX = optimization( CTX\n",
    "                  , {'L2_regularization', 0.0001}\n",
    "%                   , {'gradient_clipping', 0.5}      \n",
    "%                   , {'descent', 0.01}\n",
    "                  , {'adam', 0.0001}\n",
    "                  );\n",
    "\n",
    "CTX = objective(CTX, 'logloss');\n",
    "\n",
    "printmodel('CTX');\n"
   ]
  },
  {
   "cell_type": "code",
   "execution_count": null,
   "metadata": {},
   "outputs": [],
   "source": [
    "CTX = TRAIN(CTX, BBB, times=11); \n",
    "test_accuracy = TEST(CTX, X2, Y2, classes, alt=-1)\n",
    "save('-binary', tmp('ctx'), 'CTX');"
   ]
  },
  {
   "cell_type": "code",
   "execution_count": null,
   "metadata": {},
   "outputs": [],
   "source": []
  },
  {
   "cell_type": "code",
   "execution_count": null,
   "metadata": {},
   "outputs": [],
   "source": [
    "TEST1(CTX, pick(X2), classes, alt=-1);"
   ]
  },
  {
   "cell_type": "code",
   "execution_count": null,
   "metadata": {},
   "outputs": [],
   "source": []
  },
  {
   "cell_type": "code",
   "execution_count": null,
   "metadata": {},
   "outputs": [],
   "source": [
    "% CTX = model(12288, {'dense', 25}, 'relu', {'dense', 12}, 'relu', {'dense', num_c}, 'softmax');\n",
    "%                   , {'L2_regularization', 0.0001}\n",
    "%                   , {'adam', 0.0001}\n",
    "\n",
    "% NOW = 22-Apr-2020 08:01:57\n",
    "% GRAD_DIFF =    6.3366e-08\n",
    "% params_checked =  275\n",
    "% train_accuracy =  0.25139\n",
    "\n",
    "% 1000 0.083568\n",
    "\n",
    "% GRAD_DIFF =  0.00802818764915635\n",
    "% params_checked =  311\n",
    "% train_accuracy =  0.986111111111111\n",
    "% NOW = 22-Apr-2020 08:22:44\n",
    "% test_accuracy =  0.850000000000000"
   ]
  },
  {
   "cell_type": "code",
   "execution_count": null,
   "metadata": {},
   "outputs": [],
   "source": []
  }
 ],
 "metadata": {
  "kernelspec": {
   "display_name": "Octave",
   "language": "octave",
   "name": "octave"
  },
  "language_info": {
   "file_extension": ".m",
   "help_links": [
    {
     "text": "GNU Octave",
     "url": "https://www.gnu.org/software/octave/support.html"
    },
    {
     "text": "Octave Kernel",
     "url": "https://github.com/Calysto/octave_kernel"
    },
    {
     "text": "MetaKernel Magics",
     "url": "https://metakernel.readthedocs.io/en/latest/source/README.html"
    }
   ],
   "mimetype": "text/x-octave",
   "name": "octave",
   "version": "4.2.2"
  }
 },
 "nbformat": 4,
 "nbformat_minor": 2
}

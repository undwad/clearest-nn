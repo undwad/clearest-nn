{
 "cells": [
  {
   "cell_type": "code",
   "execution_count": 2,
   "metadata": {},
   "outputs": [
    {
     "name": "stdout",
     "output_type": "stream",
     "text": [
      "ans = THE CLEAREST NEURAL NETWORK FRAMEWORK BY UNDWAD\n",
      "X = matrix [1 10]\n",
      "Y = matrix [1 10]\n",
      "BBB = cell [1 1]\n",
      "BBB{1}.X = matrix [1 10]\n",
      "BBB{1}.Y = matrix [1 10]\n",
      "CTX.layers{1}.unit = maxout\n",
      "_.unit = maxout\n",
      "_.W = matrix [2 1 4]\n",
      "_.b = matrix [2 4]\n",
      "_.size_x = [1 1]\n",
      "_.size_z = [4 1]\n",
      "_.num_u = 2\n",
      "_.num_p = 16\n",
      "_.cfg = cell [1 2]\n",
      "CTX.layers{2}.unit = maxout\n",
      "_.unit = maxout\n",
      "_.W = matrix [2 4]\n",
      "_.b = matrix [2 1]\n",
      "_.size_x = [4 1]\n",
      "_.size_z = [1 1]\n",
      "_.num_u = 2\n",
      "_.num_p = 10\n",
      "_.cfg = cell [1 2]\n",
      "CTX.layers{3}.unit = sigmoid\n",
      "_.unit = sigmoid\n",
      "_.size_x = [1 1]\n",
      "_.size_z = [1 1]\n",
      "_.num_p = 0\n",
      "_.cfg = sigmoid\n",
      "CTX.optimizers{1}.unit = nesterov\n",
      "_.unit = nesterov\n",
      "_.rate = 0.100000\n",
      "_.mu = 0.900000\n",
      "_.ggg1 = matrix [26 1]\n",
      "_.ggg2 = matrix [26 1]\n",
      "_.cfg = cell [1 2]\n",
      "CTX.optimizers{2}.unit = gradient_clipping\n",
      "_.unit = gradient_clipping\n",
      "_.maxnorm = 0.330000\n",
      "_.cfg = cell [1 2]\n",
      "CTX.optimizers{3}.unit = stats\n",
      "_.unit = stats\n",
      "_.iter = 0\n",
      "_.cfg = stats\n",
      "CTX.objective.unit = binlogloss\n",
      "_.unit = binlogloss\n",
      "_.eps = 0.000000\n",
      "_.cfg = binlogloss\n",
      "CTX.num_p = 26\n",
      "metrics = \n",
      "  scalar structure containing the fields:\n",
      "\n",
      "    total =  10\n",
      "    TP = 0\n",
      "    TN =  3\n",
      "    FP =  7\n",
      "    FN = 0\n",
      "\n",
      "\n",
      "starts_at = 14-Jun-2020 09:14:54\n",
      "GRAD_DIFF = 0.000000\n",
      "params_checked = 26\n",
      "\n",
      "1: 0.870386            accuracy: 0.300000       gradient-norm: 0.013698  update-ratio: 0.005860   \n",
      "12: 0.348560 ↓         accuracy: 0.800000       gradient-norm: 0.197623  update-ratio: 0.059198   \n",
      "13: 0.349569 ↑         accuracy: 0.800000       gradient-norm: 0.180146  update-ratio: 0.051982   \n",
      "28: 0.254231 ↓         accuracy: 0.900000       gradient-norm: 0.086419  update-ratio: 0.019617   \n",
      "30: 0.260320 ↑         accuracy: 0.900000       gradient-norm: 0.066725  update-ratio: 0.014838   \n",
      "37: 0.235958 ↓         accuracy: 0.900000       gradient-norm: 0.074193  update-ratio: 0.015448   \n",
      "38: 0.236518 ↑         accuracy: 0.900000       gradient-norm: 0.068146  update-ratio: 0.014070   \n",
      "48: 0.209850 ↓         accuracy: 0.900000       gradient-norm: 0.065443  update-ratio: 0.012678   \n",
      "51: 0.214721 ↑         accuracy: 0.900000       gradient-norm: 0.052400  update-ratio: 0.009979   \n",
      "58: 0.185658 ↓         accuracy: 0.900000       gradient-norm: 0.071267  update-ratio: 0.012991   \n",
      "59: 0.186113 ↑         accuracy: 0.900000       gradient-norm: 0.064471  update-ratio: 0.011677   \n",
      "63: 0.180155 ↓         accuracy: 1.000000       gradient-norm: 0.055777  update-ratio: 0.009862   \n",
      "\n",
      "GRAD_DIFF = 0.000000\n",
      "params_checked = 26\n",
      "overall: objective ↓, accuracy ↑\n",
      "ends_at = 14-Jun-2020 09:14:56\n",
      "\n",
      "metrics = \n",
      "  scalar structure containing the fields:\n",
      "\n",
      "    total =  10\n",
      "    TP =  7\n",
      "    TN =  3\n",
      "    FP = 0\n",
      "    FN = 0\n",
      "    precision =  1\n",
      "    recall =  1\n",
      "    F1 =  1\n",
      "    accuracy =  1\n",
      "\n"
     ]
    },
    {
     "data": {
      "image/png": "[encoded data removed]",
      "text/plain": [
       "<IPython.core.display.Image object>"
      ]
     },
     "metadata": {},
     "output_type": "display_data"
    }
   ],
   "source": [
    "clear all;\n",
    "\n",
    "global ipynb = 'classification-0';\n",
    "\n",
    "source('clearest-nn.m');\n",
    "source('utils-training.m');\n",
    "          \n",
    "X = [ -2.2, -1.4, -0.8, 0.2, 0.4, 0.8, 1.2, 2.2, 2.9, 4.6 ];\n",
    "Y = [    0,    0,    1,   0,   1,   1,   1,   1,   1,   1 ];\n",
    "\n",
    "printsize('X');\n",
    "printsize('Y');\n",
    "\n",
    "rand('state', 1);\n",
    "\n",
    "BBB = minibatches(X, Y);\n",
    "\n",
    "printsize('BBB');\n",
    "printsize('BBB{1}.X');\n",
    "printsize('BBB{1}.Y');\n",
    "\n",
    "function TEST(CTX, X, Y)\n",
    "    Z       = predict(CTX, X);\n",
    "    Z       = Z > 0.5;\n",
    "    metrics = measure_binary_classification(Z, Y);\n",
    "    printvar('metrics');\n",
    "end\n",
    "\n",
    "function test(CTX, X, Y, BBB, times=501)\n",
    "    CTX = objective(CTX, 'binlogloss');\n",
    "    printmodel('CTX');\n",
    "    TEST(CTX, X, Y);\n",
    "    CTX = TRAIN(CTX, BBB, times);\n",
    "    TEST(CTX, X, Y);\n",
    "end\n",
    "\n",
    "CTX = model(1, {'maxout', 4}, {'maxout', 1}, 'sigmoid');\n",
    "CTX = optimization( CTX, {'nesterov', 0.1}, {'gradient_clipping',0.33}, 'stats');\n",
    "test(CTX, X, Y, BBB);\n"
   ]
  },
  {
   "cell_type": "code",
   "execution_count": null,
   "metadata": {},
   "outputs": [],
   "source": [
    "CTX = model(1, {'maxout', 4}, {'maxout', 1}, 'sigmoid');\n",
    "CTX = optimization( CTX, {'momentum', 0.1});\n",
    "CTX = tune(CTX, 'momentum', 'rate', 0.01, 'mu', 0.95);\n",
    "test(CTX, X, Y, BBB);"
   ]
  },
  {
   "cell_type": "code",
   "execution_count": null,
   "metadata": {},
   "outputs": [],
   "source": [
    "CTX = model(1, {'maxout', 3}, {'dense', 1}, 'sigmoid');\n",
    "CTX = optimization( CTX, {'momentum', 0.1});\n",
    "test(CTX, X, Y, BBB);"
   ]
  },
  {
   "cell_type": "code",
   "execution_count": null,
   "metadata": {},
   "outputs": [],
   "source": [
    "CTX = model(1, {'dense', 3}, 'tanh', {'dense', 1}, 'sigmoid');\n",
    "CTX = optimization( CTX, {'adam', 0.1});\n",
    "test(CTX, X, Y, BBB);"
   ]
  },
  {
   "cell_type": "code",
   "execution_count": null,
   "metadata": {},
   "outputs": [],
   "source": [
    "CTX = model(1, {'dense', 3}, 'relu', {'dense', 1}, 'sigmoid');\n",
    "CTX = optimization( CTX, {'adam', 0.1});\n",
    "test(CTX, X, Y, BBB);"
   ]
  },
  {
   "cell_type": "code",
   "execution_count": null,
   "metadata": {},
   "outputs": [],
   "source": [
    "CTX = model(1, {'dense', 3}, {'batchnorm'}, 'tanh', {'dense', 1}, 'sigmoid');\n",
    "CTX = optimization( CTX, {'adam', 0.1});\n",
    "test(CTX, X, Y, BBB);"
   ]
  },
  {
   "cell_type": "code",
   "execution_count": null,
   "metadata": {},
   "outputs": [],
   "source": []
  },
  {
   "cell_type": "code",
   "execution_count": null,
   "metadata": {},
   "outputs": [],
   "source": []
  }
 ],
 "metadata": {
  "kernelspec": {
   "display_name": "Octave",
   "language": "octave",
   "name": "octave"
  },
  "language_info": {
   "file_extension": ".m",
   "help_links": [
    {
     "text": "GNU Octave",
     "url": "https://www.gnu.org/software/octave/support.html"
    },
    {
     "text": "Octave Kernel",
     "url": "https://github.com/Calysto/octave_kernel"
    },
    {
     "text": "MetaKernel Magics",
     "url": "https://metakernel.readthedocs.io/en/latest/source/README.html"
    }
   ],
   "mimetype": "text/x-octave",
   "name": "octave",
   "version": "4.2.2"
  }
 },
 "nbformat": 4,
 "nbformat_minor": 2
}

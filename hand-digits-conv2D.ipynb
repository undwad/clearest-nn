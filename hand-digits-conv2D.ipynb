{
 "cells": [
  {
   "cell_type": "code",
   "execution_count": null,
   "metadata": {
    "scrolled": true
   },
   "outputs": [],
   "source": [
    "clear all;\n",
    "\n",
    "global ipynb = 'hand-digits-conv2D';\n",
    "\n",
    "source('clearest-nn.m');\n",
    "source('utils-logging.m');\n",
    "source('utils-training.m');\n",
    "\n",
    "log2file(tmp('log'));\n",
    "\n",
    "##########################################\n",
    "\n",
    "data = load('datasets/train_signs.h5');\n",
    "\n",
    "classes = data.list_classes;\n",
    "printvar('classes');\n",
    "\n",
    "X1 = data.train_set_x;\n",
    "Y1 = data.train_set_y;\n",
    "printsize('X1');\n",
    "printsize('Y1');\n",
    "\n",
    "data = load('datasets/test_signs.h5');\n",
    "\n",
    "X2 = data.test_set_x;\n",
    "Y2 = data.test_set_y;\n",
    "printsize('X2');\n",
    "printsize('Y2');\n",
    "\n",
    "function [X, Y, Yoh] = PREPARE(X, Y, classes)\n",
    "    lim = max(classes) + 1;\n",
    "    idx = find(Y < lim);\n",
    "    X   = slice(X, [], idx);\n",
    "    Y   = slice(Y, [], idx);\n",
    "    X   = reshape(X, 64, 64, 3, count(X));\n",
    "    X   = double(X) / 255;\n",
    "    Yoh = onehots(Y, classes);    \n",
    "end\n",
    "\n",
    "%classes = classes(find(classes < 3));\n",
    "%printvar('classes');\n",
    "\n",
    "[X1, Y1, Y1oh] = PREPARE(X1, Y1, classes);\n",
    "printsize('X1');\n",
    "printsize('Y1oh');\n",
    "\n",
    "[X2, Y2, Y2oh] = PREPARE(X2, Y2, classes);\n",
    "printsize('X2');\n",
    "printsize('Y2oh');\n",
    "\n",
    "[X1, Y1, Y1oh] = shuffle(X1, Y1, Y1oh);\n",
    "[X2, Y2, Y2oh] = shuffle(X2, Y2, Y2oh);\n",
    "\n",
    "oh1 = all(Y1 == onecolds(Y1oh, classes, -1))\n",
    "oh2 = all(Y2 == onecolds(Y2oh, classes, -1))\n",
    "\n",
    "BBB = minibatches(X1, Y1oh, 32);\n",
    "printsize('BBB');\n",
    "printsize('BBB{1}.X');\n",
    "printsize('BBB{1}.Y');\n",
    "\n",
    "function SHOW(x, y)\n",
    "    x = reshape(x, 3, 64, 64, 1);\n",
    "    x = permute(x, [2, 3, 1]);\n",
    "    figure;\n",
    "    imshow(x);\n",
    "    title(disp(y));\n",
    "end\n",
    "\n",
    "function acc = TEST(CTX, X, Y, classes, alt)\n",
    "    m   = count(X);\n",
    "    Z   = predict(CTX, X);\n",
    "    Z   = maxcolds(Z, classes, alt);\n",
    "    acc = nnz(Z == Y) / m;\n",
    "end\n",
    "\n",
    "function TEST1(CTX, x, classes, alt)\n",
    "    x(:,:,:,2) = x;\n",
    "    z = predict(CTX, x);\n",
    "    x = x(:,:,:,1);\n",
    "    z = z(:,1);\n",
    "    z = maxcolds(z, classes, alt);\n",
    "    SHOW(x, z);\n",
    "end\n",
    "\n",
    "[x,y] = pick(X1, Y1);\n",
    "SHOW(x,y);\n",
    "#"
   ]
  },
  {
   "cell_type": "code",
   "execution_count": null,
   "metadata": {},
   "outputs": [],
   "source": [
    "function CTX = LEARN(CTX, times=101, varargin)\n",
    "    CTX           = TUNE(CTX, varargin{:});\n",
    "    BBB           = evalin('caller', 'BBB');\n",
    "    X2            = evalin('caller', 'X2');\n",
    "    Y2            = evalin('caller', 'Y2');\n",
    "    classes       = evalin('caller', 'classes');\n",
    "    [CTX, ok]     = TRAIN(CTX, BBB, times); \n",
    "    test_accuracy = TEST(CTX, X2, Y2, classes, alt=-1);\n",
    "    printvar('test_accuracy');\n",
    "    global ipynb;\n",
    "    notifed = pushnotify(sprintf('%s: smth_learnt=%s, test_accuracy=%f', ipynb, bool2yesno(ok), test_accuracy))\n",
    "    if ok\n",
    "        save('-binary', tmp('ctx'), 'CTX');\n",
    "    end\n",
    "end"
   ]
  },
  {
   "cell_type": "code",
   "execution_count": null,
   "metadata": {},
   "outputs": [],
   "source": [
    "source('clearest-nn.m');\n",
    "source('utils-logging.m');\n",
    "\n",
    "rand('state', 1);\n",
    "\n",
    "num_c = count(classes);\n",
    "printvar('num_c');\n",
    "\n",
    "CTX = model( [28,28,3]\n",
    "           , {'conv2D', [14,14,6], 3:6}\n",
    "           , 'relu'\n",
    "           , {'conv2D', [7,7,12], 3:6}\n",
    "           , 'relu'\n",
    "           , 'reshape'\n",
    "           , {'dense', num_c}\n",
    "           , 'softmax'\n",
    "           );\n",
    "           \n",
    "%load('-binary', tmp('ctx'), 'CTX');\n",
    "\n",
    "CTX = optimization( CTX\n",
    "                  , {'L2_regularization', 0.0001}\n",
    "%                   , {'gradient_clipping', 0.5}      \n",
    "%                  , {'descent', 0.001}\n",
    "                  , {'momentum', 0.0001}\n",
    "%                   , {'nesterov', 0.0001}\n",
    "%                   , {'adam', 0.001}\n",
    "%                   , 'rprop'\n",
    "                  , {'gradient_clipping',0.9}\n",
    "                  , 'stats'\n",
    "                  );\n",
    "\n",
    "CTX = objective(CTX, 'logloss');\n",
    "\n",
    "printmodel('CTX');\n"
   ]
  },
  {
   "cell_type": "code",
   "execution_count": null,
   "metadata": {},
   "outputs": [
    {
     "name": "stdout",
     "output_type": "stream",
     "text": [
      "momentum.rate = 0.001000\n",
      "\n",
      "starts_at = 12-May-2020 17:07:07\n",
      "GRAD_DIFF = 0.951998\n",
      "params_checked = 6"
     ]
    }
   ],
   "source": [
    "CTX = LEARN(CTX, times=101, {'momentum', 'rate', 0.001});"
   ]
  },
  {
   "cell_type": "code",
   "execution_count": null,
   "metadata": {},
   "outputs": [],
   "source": [
    "CTX = LEARN(CTX, times=101, {'momentum', 'rate', 0.001});"
   ]
  },
  {
   "cell_type": "code",
   "execution_count": null,
   "metadata": {},
   "outputs": [],
   "source": [
    "CTX = LEARN(CTX, times=101, {'momentum', 'rate', 0.001});"
   ]
  },
  {
   "cell_type": "code",
   "execution_count": null,
   "metadata": {},
   "outputs": [],
   "source": [
    "CTX = LEARN(CTX, times=101, {'momentum', 'rate', 0.0005});"
   ]
  },
  {
   "cell_type": "code",
   "execution_count": null,
   "metadata": {},
   "outputs": [],
   "source": []
  },
  {
   "cell_type": "code",
   "execution_count": null,
   "metadata": {},
   "outputs": [],
   "source": [
    "#load('-binary', tmp('ctx'), 'CTX');\n"
   ]
  },
  {
   "cell_type": "code",
   "execution_count": null,
   "metadata": {},
   "outputs": [],
   "source": [
    "# test_accuracy = TEST(CTX, X2, Y2, classes, alt=-1)\n",
    "\n",
    "# TEST1(CTX, pick(X2), classes, alt=-1);\n"
   ]
  },
  {
   "cell_type": "code",
   "execution_count": null,
   "metadata": {},
   "outputs": [],
   "source": []
  },
  {
   "cell_type": "code",
   "execution_count": null,
   "metadata": {},
   "outputs": [],
   "source": [
    "% CTX = model(12288, {'dense', 25}, 'relu', {'dense', 12}, 'relu', {'dense', num_c}, 'softmax');\n",
    "\n",
    "% NOW = 19-Apr-2020 15:34:09\n",
    "% train_accuracy =  0.251388888888889\n",
    "\n",
    "% 1000 0.067233\n",
    "\n",
    "% train_accuracy =  0.956944444444444\n",
    "% NOW = 19-Apr-2020 16:13:38\n",
    "% test_accuracy =  0.862500000000000"
   ]
  },
  {
   "cell_type": "code",
   "execution_count": null,
   "metadata": {},
   "outputs": [],
   "source": []
  }
 ],
 "metadata": {
  "kernelspec": {
   "display_name": "Octave",
   "language": "octave",
   "name": "octave"
  },
  "language_info": {
   "file_extension": ".m",
   "help_links": [
    {
     "text": "GNU Octave",
     "url": "https://www.gnu.org/software/octave/support.html"
    },
    {
     "text": "Octave Kernel",
     "url": "https://github.com/Calysto/octave_kernel"
    },
    {
     "text": "MetaKernel Magics",
     "url": "https://metakernel.readthedocs.io/en/latest/source/README.html"
    }
   ],
   "mimetype": "text/x-octave",
   "name": "octave",
   "version": "4.2.2"
  }
 },
 "nbformat": 4,
 "nbformat_minor": 2
}

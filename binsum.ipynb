{
 "cells": [
  {
   "cell_type": "code",
   "execution_count": 1,
   "metadata": {},
   "outputs": [
    {
     "name": "stdout",
     "output_type": "stream",
     "text": [
      "ans = THE CLEAREST NEURAL NETWORK FRAMEWORK BY UNDWAD\n",
      "OpenJDK 64-Bit Server VM warning: Archived non-system classes are disabled because the java.system.class.loader property is specified (value = \"org.octave.OctClassLoader\"). To use archived non-system classes, this property must be not be set\n",
      "bits = 2\n",
      "X = matrix [2 2 16]\n",
      "Y = matrix [3 1 16]\n",
      "BBB = cell [1 16]\n",
      "BBB{1}.X = matrix [2 2]\n",
      "BBB{1}.Y = matrix [3 1]\n",
      "BBB{1}.X = [1 0;1 1]\n",
      "BBB{1}.Y = [1;0;0]\n"
     ]
    }
   ],
   "source": [
    "clear all;\n",
    "\n",
    "global ipynb = 'binsum';\n",
    "\n",
    "source('clearest-nn.m');\n",
    "source('utils-logging.m');\n",
    "source('utils-training.m');\n",
    "\n",
    "% log2file(tmp('log'));\n",
    "\n",
    "##########################################\n",
    "\n",
    "% bits = 7;\n",
    "bits = 2;\n",
    "printvar('bits');\n",
    "\n",
    "function y = dectobin(x, n)\n",
    "    y = dec2bin(x, n);\n",
    "    y = y(:);\n",
    "    y = str2num(y);\n",
    "end\n",
    "\n",
    "function x = bintodec(y)\n",
    "    x = num2str(y);\n",
    "    x = reshape(x, 1, []);\n",
    "    x = bin2dec(x);\n",
    "end\n",
    "\n",
    "function [x, y] = binsum_sample(x1, x2, n)\n",
    "    x = [dectobin(x1, n), dectobin(x2, n)]; \n",
    "    y = dectobin(x1 + x2, n+1);\n",
    "end\n",
    "\n",
    "function [X, Y] = binsum_samples(n)\n",
    "    k = 2^n;\n",
    "    m = k*k;\n",
    "    X = zeros(n,  2,m);\n",
    "    Y = zeros(n+1,1,m);\n",
    "    i = 1;\n",
    "    for x1 = 0:k-1 \n",
    "        for x2 = 0:k-1\n",
    "            [x,y] = binsum_sample(x1, x2, n);\n",
    "            X(:,:,i) = x;\n",
    "            Y(:,:,i) = y;\n",
    "                  i += 1;\n",
    "        end\n",
    "    end\n",
    "end\n",
    "\n",
    "[X, Y] = binsum_samples(bits);\n",
    "[X, Y] = shuffle(X, Y);\n",
    "printsize('X');\n",
    "printsize('Y');\n",
    "\n",
    "function BBB = BATCHES(X, Y)\n",
    "    BBB = {};\n",
    "    m   = count(X);\n",
    "    for i = 1:m\n",
    "        B.X    = X(:, :, i);\n",
    "        B.Y    = Y(:, :, i);\n",
    "        BBB{i} = B;\n",
    "    end\n",
    "end\n",
    "\n",
    "BBB = BATCHES(X, Y);\n",
    "printsize('BBB');\n",
    "printsize('BBB{1}.X');\n",
    "printsize('BBB{1}.Y');\n",
    "printvar('BBB{1}.X');\n",
    "printvar('BBB{1}.Y');\n",
    "\n",
    "function acc = TEST(CTX, BBB, show=0)\n",
    "    bits = rows(BBB{1}.X);\n",
    "    m    = count(BBB);\n",
    "    acc  = 0;\n",
    "    for i = 1:m\n",
    "        B    = BBB{i};\n",
    "        X    = B.X;\n",
    "        y    = B.Y;\n",
    "        z    = predict(CTX, X);\n",
    "        z    = z > 0.5;\n",
    "        y    = bintodec(y);\n",
    "        z    = bintodec(z);\n",
    "        eq   = y == z;\n",
    "        acc += eq/m;\n",
    "        if show\n",
    "            x1 = bintodec(X(:,1));\n",
    "            x2 = bintodec(X(:,2));\n",
    "            if eq\n",
    "                eq = '==';\n",
    "            else       \n",
    "                eq = '!='; \n",
    "            end\n",
    "            fmt = sprintf(\"%%-%dd + %%-%dd = %%-%dd %%s %%-%dd\\n\", bits, bits, bits+1, bits+1);\n",
    "            printlog(fmt, x1, x2, y, eq, z);\n",
    "        end\n",
    "    end\n",
    "end\n",
    "\n",
    "function CTX = LEARN(CTX, times=11, varargin)\n",
    "    CTX = TUNE(CTX, varargin{:});\n",
    "    BBB = evalin('caller', 'BBB');\n",
    "    [CTX, ok] = TRAIN(CTX, BBB, times); \n",
    "    global ipynb;\n",
    "    notifed = pushnotify(sprintf('%s: smth_learnt=%s', ipynb, bool2yesno(ok)))\n",
    "    if ok\n",
    "        save('-binary', tmp('ctx'), 'CTX');\n",
    "    end\n",
    "end\n",
    "\n",
    "function printgated(CTX, ggg)\n",
    "    gru = import(CTX, ggg).layers{1};\n",
    "    ggu = gru.Gu.layers{1};\n",
    "    ggr = gru.Gr.layers{1};\n",
    "    ggc = gru.Gc.layers{1};\n",
    "    gWu = ggu.W\n",
    "    gbu = ggu.b\n",
    "    gWr = ggr.W\n",
    "    gbr = ggr.b\n",
    "    gWc = ggc.W\n",
    "    gbc = ggc.b\n",
    "end\n"
   ]
  },
  {
   "cell_type": "code",
   "execution_count": 2,
   "metadata": {},
   "outputs": [
    {
     "name": "stdout",
     "output_type": "stream",
     "text": [
      "ans = THE CLEAREST NEURAL NETWORK FRAMEWORK BY UNDWAD\n",
      "CTX.num_p = 355\n"
     ]
    }
   ],
   "source": [
    "source('clearest-nn.m');\n",
    "\n",
    "rand('state', 1);\n",
    "\n",
    "CTX = model(bits, {'recurrent', 8*bits}, {'dense', bits+1}, 'sigmoid');\n",
    "% CTX = model(bits, {'gated_recurrent', 2*bits}, {'dense', bits+1}, 'sigmoid');\n",
    "\n",
    "CTX = optimization( CTX\n",
    "%                   , {'L2_regularization', 0.001}\n",
    "%                     , {'descent', 0.1}\n",
    "%                   , {'momentum', 0.1}\n",
    "                   , {'nesterov', 0.0001}\n",
    "%                  , {'adam', 0.1}\n",
    "%                   , {'rprop', 0.1}\n",
    "                  , {'gradient_clipping',0.9}\n",
    "                  , 'stats'\n",
    "                  );\n",
    "\n",
    "CTX = objective(CTX, 'multitaskloss');\n",
    "\n",
    "% load('-binary', tmp('ctx'), 'CTX');\n",
    "\n",
    "% printmodel('CTX');\n",
    "printvar('CTX.num_p')\n"
   ]
  },
  {
   "cell_type": "code",
   "execution_count": 18,
   "metadata": {},
   "outputs": [
    {
     "name": "stdout",
     "output_type": "stream",
     "text": [
      "3  + 1  = 4   == 4  \n",
      "1  + 3  = 4   == 4  \n",
      "0  + 1  = 1   == 1  \n",
      "0  + 2  = 2   == 2  \n",
      "3  + 3  = 6   == 6  \n",
      "2  + 1  = 3   == 3  \n",
      "2  + 2  = 4   == 4  \n",
      "1  + 0  = 1   == 1  \n",
      "0  + 0  = 0   == 0  \n",
      "2  + 0  = 2   == 2  \n",
      "1  + 1  = 2   == 2  \n",
      "0  + 3  = 3   == 3  \n",
      "1  + 2  = 3   == 3  \n",
      "3  + 2  = 5   == 5  \n",
      "2  + 3  = 5   == 5  \n",
      "3  + 0  = 3   == 3  \n",
      "overall_accuracy = 1\n"
     ]
    }
   ],
   "source": [
    "overall_accuracy = TEST(CTX, BBB, show=1);\n",
    "printvar('overall_accuracy');"
   ]
  },
  {
   "cell_type": "code",
   "execution_count": null,
   "metadata": {},
   "outputs": [],
   "source": []
  },
  {
   "cell_type": "code",
   "execution_count": 4,
   "metadata": {},
   "outputs": [
    {
     "name": "stdout",
     "output_type": "stream",
     "text": [
      "nesterov.rate = 0.001000\n",
      "\n",
      "starts_at = 10-Jun-2020 07:16:04\n",
      "GRAD_DIFF = 0.000000\n",
      "params_checked = 355\n",
      "\n",
      "1: 2.149226            accuracy: 0.125000       gradient-norm: 0.003725  update-ratio: 0.000763   \n",
      "10: 2.003229 ↓         accuracy: 0.125000       gradient-norm: 0.004239  update-ratio: 0.000869   \n",
      "\n",
      "GRAD_DIFF = 0.000000\n",
      "params_checked = 355\n",
      "overall: objective ↓, accuracy  \n",
      "ends_at = 10-Jun-2020 07:16:12\n",
      "\n",
      "notifed = 1\n"
     ]
    },
    {
     "data": {
      "image/png": "[encoded data removed]",
      "text/plain": [
       "<IPython.core.display.Image object>"
      ]
     },
     "metadata": {},
     "output_type": "display_data"
    }
   ],
   "source": [
    "CTX = LEARN(CTX, times=10, {'nesterov', 'rate', 0.001});"
   ]
  },
  {
   "cell_type": "code",
   "execution_count": 6,
   "metadata": {},
   "outputs": [
    {
     "name": "stdout",
     "output_type": "stream",
     "text": [
      "nesterov.rate = 0.001000\n",
      "\n",
      "starts_at = 10-Jun-2020 07:16:53\n",
      "GRAD_DIFF = 0.000000\n",
      "params_checked = 355\n",
      "\n",
      "1: 1.445413            accuracy: 0.500000       gradient-norm: 0.003902  update-ratio: 0.000629   \n",
      "100: 0.866845 ↓        accuracy: 0.875000       gradient-norm: 0.003139  update-ratio: 0.000380   \n",
      "\n",
      "GRAD_DIFF = 0.000000\n",
      "params_checked = 355\n",
      "overall: objective ↓, accuracy ↑\n",
      "ends_at = 10-Jun-2020 07:17:17\n",
      "\n",
      "notifed = 1\n"
     ]
    },
    {
     "data": {
      "image/png": "[encoded data removed]",
      "text/plain": [
       "<IPython.core.display.Image object>"
      ]
     },
     "metadata": {},
     "output_type": "display_data"
    }
   ],
   "source": [
    "CTX = LEARN(CTX, times=100, {'nesterov', 'rate', 0.001});"
   ]
  },
  {
   "cell_type": "code",
   "execution_count": 16,
   "metadata": {},
   "outputs": [
    {
     "name": "stdout",
     "output_type": "stream",
     "text": [
      "nesterov.rate = 0.000100\n",
      "\n",
      "starts_at = 10-Jun-2020 07:25:09\n",
      "GRAD_DIFF = 0.000000\n",
      "params_checked = 355\n",
      "\n",
      "1: 0.489424            accuracy: 0.937500       gradient-norm: 0.000282  update-ratio: 0.000028   \n",
      "7: 0.487337 ↓          accuracy: 1.000000       gradient-norm: 0.000282  update-ratio: 0.000028   \n",
      "\n",
      "GRAD_DIFF = 0.000000\n",
      "params_checked = 355\n",
      "overall: objective ↓, accuracy ↑\n",
      "ends_at = 10-Jun-2020 07:25:18\n",
      "\n",
      "notifed = 1\n"
     ]
    },
    {
     "data": {
      "image/png": "[encoded data removed]",
      "text/plain": [
       "<IPython.core.display.Image object>"
      ]
     },
     "metadata": {},
     "output_type": "display_data"
    }
   ],
   "source": [
    "CTX = LEARN(CTX, times=100, {'nesterov', 'rate', 0.0001});"
   ]
  },
  {
   "cell_type": "code",
   "execution_count": null,
   "metadata": {},
   "outputs": [],
   "source": []
  },
  {
   "cell_type": "code",
   "execution_count": 17,
   "metadata": {},
   "outputs": [
    {
     "name": "stdout",
     "output_type": "stream",
     "text": [
      "GRAD_DIFF =    5.8283e-09\n",
      "params_checked =  355\n",
      "error: structure has no member 'Gu'\n",
      "error: called from\n",
      "    printgated at line 3 column 9\n"
     ]
    }
   ],
   "source": [
    "[GRAD_DIFF, ggg, params_checked] = check_gradient(CTX, pick(BBB));\n",
    "GRAD_DIFF\n",
    "params_checked\n",
    "printgated(CTX, ggg)"
   ]
  },
  {
   "cell_type": "code",
   "execution_count": null,
   "metadata": {},
   "outputs": [],
   "source": [
    "overall_accuracy = TEST(CTX, BBB, show=1);\n",
    "printvar('overall_accuracy');"
   ]
  },
  {
   "cell_type": "code",
   "execution_count": null,
   "metadata": {},
   "outputs": [],
   "source": []
  },
  {
   "cell_type": "code",
   "execution_count": null,
   "metadata": {},
   "outputs": [],
   "source": [
    "source('clearest-nn.m');\n",
    "\n",
    "DDD = zeros(CTX.num_p, 1);\n",
    "for i = 1:count(BBB)\n",
    "    batch_num = i\n",
    "    B = BBB{i}\n",
    "    %printall(CTX, B.X, B.Y);\n",
    "    [CTX, ggg, E, acc] = pretrain(CTX, B.X, B.Y);\n",
    "    ggg;\n",
    "    E;\n",
    "    acc;\n",
    "    printgated(CTX, ggg)\n",
    "    [GRAD_DIFF, ddd, params_checked] = check_gradient(CTX, B);\n",
    "    DDD += abs(ddd);\n",
    "    printf('\\n')\n",
    "end\n",
    "\n",
    "printgated(CTX, DDD);\n"
   ]
  },
  {
   "cell_type": "code",
   "execution_count": null,
   "metadata": {},
   "outputs": [],
   "source": []
  }
 ],
 "metadata": {
  "kernelspec": {
   "display_name": "Octave",
   "language": "octave",
   "name": "octave"
  },
  "language_info": {
   "file_extension": ".m",
   "help_links": [
    {
     "text": "GNU Octave",
     "url": "https://www.gnu.org/software/octave/support.html"
    },
    {
     "text": "Octave Kernel",
     "url": "https://github.com/Calysto/octave_kernel"
    },
    {
     "text": "MetaKernel Magics",
     "url": "https://metakernel.readthedocs.io/en/latest/source/README.html"
    }
   ],
   "mimetype": "text/x-octave",
   "name": "octave",
   "version": "4.2.2"
  }
 },
 "nbformat": 4,
 "nbformat_minor": 2
}

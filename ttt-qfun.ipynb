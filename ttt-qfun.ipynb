{
 "cells": [
  {
   "cell_type": "code",
   "execution_count": 3,
   "metadata": {},
   "outputs": [
    {
     "name": "stdout",
     "output_type": "stream",
     "text": [
      "ans = THE CLEAREST NEURAL NETWORK FRAMEWORK BY UNDWAD\n",
      "ans = TIC-TAC-TOE GAME\n",
      "winner =  2\n",
      "s =\n",
      "\n",
      "   1   2   0\n",
      "   0   2   1\n",
      "   1   2   0\n",
      "\n",
      "oh18 =\n",
      "\n",
      "   1   0   0   0   1   0   0   1   0   1   0   1   0   0   1   0   0   0\n",
      "\n",
      "oh27 =\n",
      "\n",
      " Columns 1 through 26:\n",
      "\n",
      "  0  1  0  0  0  0  1  0  1  1  0  1  0  0  0  0  1  0  0  0  0  1  1  1  0  0\n",
      "\n",
      " Column 27:\n",
      "\n",
      "  0\n",
      "\n",
      "playing 100 times randompolicy vs randompolicy\n",
      "wins = [56 33]\n",
      "draws = 11\n"
     ]
    }
   ],
   "source": [
    "clear all;\n",
    "\n",
    "global ipynb = 'ttt-qfun';\n",
    "\n",
    "source('clearest-nn.m');\n",
    "source('utils-logging.m');\n",
    "source('utils-training.m');\n",
    "source('game-ttt.m');\n",
    "\n",
    "% log2file(tmp('log'));\n",
    "\n",
    "##########################################\n",
    "\n",
    "[winner,s] = play1(@randompolicy, @randompolicy)\n",
    "oh18 = game2oh18(s)'\n",
    "oh27 = game2oh27(s)'\n",
    "play(100, @randompolicy);\n"
   ]
  },
  {
   "cell_type": "code",
   "execution_count": 2,
   "metadata": {},
   "outputs": [
    {
     "name": "stdout",
     "output_type": "stream",
     "text": [
      "winner =  1\n",
      "s =\n",
      "\n",
      "   1   0   1\n",
      "   2   1   2\n",
      "   1   2   0\n",
      "\n",
      "oh =\n",
      "\n",
      "   1   0   0   1   1   0   0   0   1   0   0   1   1   0   0   1   0   0\n",
      "\n",
      "playing 100 times randompolicy vs randompolicy\n",
      "wins = [64 22]\n",
      "draws = 14\n"
     ]
    }
   ],
   "source": []
  },
  {
   "cell_type": "markdown",
   "metadata": {},
   "source": [
    "<img align=\"left\" src=\"assets/reinforce.png\">\n",
    "<img align=\"left\" src=\"assets/reinforce-baseline.png\">"
   ]
  },
  {
   "cell_type": "code",
   "execution_count": 4,
   "metadata": {},
   "outputs": [
    {
     "name": "stdout",
     "output_type": "stream",
     "text": [
      "qmodel.num_p = 2871\n",
      "playing 100 times randompolicy vs randompolicy\n",
      "wins = [65 23]\n",
      "draws = 12\n",
      "playing 100 times randompolicy vs stochastic_policy\n",
      "wins = [57 30]\n",
      "draws = 13\n",
      "playing 100 times randompolicy vs deterministic_policy\n",
      "wins = [62 27]\n",
      "draws = 11\n",
      "\n",
      "datestr(starts_at) = 14-Jun-2020 08:11:31\n",
      "\n",
      "player 2, episode 98 of 100, gradnorm 0.916188, updratio 0.086243, wins [57 31], error 0.004450 ↓, ratio 0.543860 ↓\n",
      "datestr(ends_at) = 14-Jun-2020 08:11:39\n",
      "duration = [0 0 0 0 0 7.837573]\n",
      "\n",
      "playing 100 times randompolicy vs stochastic_policy\n",
      "wins = [46 38]\n",
      "draws = 16\n",
      "playing 100 times randompolicy vs deterministic_policy\n",
      "wins = [47 41]\n",
      "draws = 12\n"
     ]
    },
    {
     "data": {
      "image/png": "[encoded data removed]",
      "text/plain": [
       "<IPython.core.display.Image object>"
      ]
     },
     "metadata": {},
     "output_type": "display_data"
    }
   ],
   "source": [
    "### Q-LEARNING WITH NEURAL NETWORK FUNCTION APPROXIMATION ###\n",
    "\n",
    "global qmodel tau gamma;\n",
    "\n",
    "function a = stochastic_policy(s)\n",
    "    global qmodel;\n",
    "    x       = game2oh18(s);\n",
    "    [~,qqq] = forward(qmodel, x);\n",
    "    aaa     = actions(s);\n",
    "    qq      = qqq(aaa);\n",
    "    [q,i]   = softmaxpick(qq);\n",
    "    a       = aaa(i);\n",
    "end\n",
    "\n",
    "function a = deterministic_policy(s)\n",
    "    global qmodel;\n",
    "    global qmodel;\n",
    "    x       = game2oh18(s);\n",
    "    [~,qqq] = forward(qmodel, x);\n",
    "    aaa     = actions(s);\n",
    "    qq      = qqq(aaa);\n",
    "    [~,i]   = max(qq);\n",
    "    a       = aaa(i);\n",
    "end\n",
    "\n",
    "function q = qnnestimate(s)\n",
    "    global qmodel;\n",
    "    oh      = game2oh18(s);\n",
    "    [~,qqq] = forward(qmodel, oh);\n",
    "    q       = mean(qqq);\n",
    "end\n",
    "\n",
    "function s = start(agent)\n",
    "    s = game();\n",
    "    if agent == 2\n",
    "        a = randompolicy(s);\n",
    "        s = game(s, a); \n",
    "    end\n",
    "end\n",
    "\n",
    "function [s, reward, winner] = move(agent, s, a)\n",
    "    s = game(s, a);            # learning player moves\n",
    "    if iswin(s, a)             # learning player wins\n",
    "        reward = 1;\n",
    "        winner = agent;\n",
    "    elseif isover(s)           # draw\n",
    "        reward = 0;\n",
    "        winner = 0;\n",
    "    elseif player(s) == agent  # invalid move\n",
    "        error('invalid move');\n",
    "    else                       # continue\n",
    "        a = randompolicy(s);   \n",
    "        s = game(s, a);        # other player moves\n",
    "        if iswin(s, a)         # other player wins\n",
    "            reward = -1;\n",
    "            winner = player(s, a);\n",
    "        elseif isover(s)       # draw\n",
    "            reward = 0;\n",
    "            winner = 0;\n",
    "        else                   # continue\n",
    "            reward = 0;\n",
    "            winner = [];\n",
    "        end  \n",
    "    end  \n",
    "end\n",
    "\n",
    "global delta_error_signs;\n",
    "\n",
    "function [winner,err] = episode(agent)\n",
    "    global qmodel tau gamma;\n",
    "    winner = [];     # draw: 0, players: 1,2\n",
    "    X = zeros(18,9); # states as onehot vectors\n",
    "    P = zeros(9,9);  # valid action probs\n",
    "    A = zeros(1,9);  # selected actions\n",
    "    Y = zeros(9,9);  # targets (rewards)\n",
    "    n = 0;           # number of moves\n",
    "    s = start(agent);\n",
    "    do\n",
    "        x       = game2oh18(s);\n",
    "        [~,qqq] = forward(qmodel, x);\n",
    "        aaa     = actions(s);\n",
    "        pp      = softmax(qqq(aaa) / tau);\n",
    "        [~,idx] = softmaxpick(pp);\n",
    "        a       = aaa(idx);\n",
    "        ppp     = setsome(zeros(9, 1), pp, aaa);\n",
    "        [s, reward, winner] = move(agent, s, a);\n",
    "        n     += 1;\n",
    "        X(:,n) = x;\n",
    "        P(:,n) = ppp;\n",
    "        A(:,n) = a;\n",
    "        y      = setsome(zeros(9, 1), reward, a); \n",
    "        Y(:,n) = y;\n",
    "    until !isempty(winner);\n",
    "%     X\n",
    "%     P\n",
    "%     A\n",
    "%     Y\n",
    "    for i = n-1:-1:1\n",
    "        a       = A(i);\n",
    "        next_y  = sum(P(:,i+1) .* Y(:,i+1));\n",
    "        Y(a,i) += gamma*next_y;\n",
    "    end\n",
    "    X              = X(:, 1:n);\n",
    "    Y              = Y(:, 1:n);\n",
    "%     Y\n",
    "    [qmodel,Z]     = forward(qmodel, X);\n",
    "%     Z\n",
    "    Y              = Z .* (Y == 0) .+ Y;\n",
    "%     Y\n",
    "    E              = cost(qmodel, Z, Y);\n",
    "%     E\n",
    "    dE             = gradient(qmodel, Z, Y);\n",
    "%     dE\n",
    "    [qmodel,ggg,~] = backward(qmodel, Z, dE);\n",
    "    [qmodel,ggg]   = optimize_gradient(qmodel, ggg, 1);\n",
    "    new_qmodel     = update(qmodel, ggg);\n",
    "    err            = mean(E);\n",
    "    \n",
    "    [~,Z]          = forward(new_qmodel, X);\n",
    "    Y              = Z .* (Y == 0) .+ Y;\n",
    "    E              = cost(new_qmodel, Z, Y);\n",
    "    delta          = mean(E) - err;\n",
    "\n",
    "    if delta < 0\n",
    "        qmodel = new_qmodel;\n",
    "    end\n",
    "    \n",
    "    global delta_error_signs;\n",
    "    delta_error_signs(sign(delta)+2) += 1;\n",
    "end\n",
    "\n",
    "function ratio = iteration(p, n, eps=1e-8)\n",
    "    global qmodel;\n",
    "    ERROR = zeros(1,n);\n",
    "    RATIO = zeros(1,n);\n",
    "    wins  = [0 0];\n",
    "    for t = 1:n\n",
    "        [winner,err] = episode(p);\n",
    "        if winner > 0 \n",
    "            wins(winner) += 1; \n",
    "        end\n",
    "        if nnz(wins) == 2\n",
    "            ratio = wins(p) / wins(other(p));\n",
    "        else\n",
    "            ratio = 0;\n",
    "        end\n",
    "        ERROR(t) = err;\n",
    "        RATIO(t) = ratio;\n",
    "        if t > 1 \n",
    "            edir = sign(err   - ERROR(t-1));\n",
    "            rdir = sign(ratio - RATIO(t-1));\n",
    "        else\n",
    "            edir = 0;\n",
    "            rdir = 0;\n",
    "        end\n",
    "        gradnorm = getunit(qmodel.optimizers,'gradient_clipping').norm;\n",
    "        updratio = getunit(qmodel.optimizers,'stats').ratio;        \n",
    "        showlog(1, 100, 'player %d, episode %d of %d, gradnorm %f, updratio %f, wins %s, error %f %s, ratio %f %s', \n",
    "                         p, t, n, gradnorm, updratio, mat2str(wins), err, dir2arrow(edir), ratio, dir2arrow(rdir));\n",
    "    end\n",
    "    figure('Position', [0 0 1000 400]);\n",
    "    hold on;\n",
    "    plot(1:n, ERROR, 'r');\n",
    "    plot(1:n, RATIO, 'g');\n",
    "    legend('objective', 'win ratio')\n",
    "    title('training history');\n",
    "end\n",
    "\n",
    "tau     = 1;\n",
    "gamma   = 1;\n",
    "qmodel  = model(18, {'maxout', 36}, {'maxout', 18}, {'dense', 9});\n",
    "% qmodel  = model(18, {'dense', 9});\n",
    "qmodel  = optimization(qmodel, {'adam', 0.1},   {'gradient_clipping', 0.9}, 'stats');\n",
    "qmodel  = objective(qmodel, 'mse');\n",
    "\n",
    "printvar('qmodel.num_p');\n",
    "%printmodel('qmodel');\n",
    "\n",
    "play(100, @randompolicy);\n",
    "play(100, @randompolicy, @stochastic_policy);\n",
    "play(100, @randompolicy, @deterministic_policy);\n",
    "\n",
    "delta_error_signs = [0 0 0];\n",
    "\n",
    "printstart();\n",
    "ratio = iteration(2, 100);\n",
    "printend();\n",
    "\n",
    "play(100, @randompolicy, @stochastic_policy);\n",
    "play(100, @randompolicy, @deterministic_policy);\n"
   ]
  },
  {
   "cell_type": "code",
   "execution_count": 5,
   "metadata": {},
   "outputs": [
    {
     "name": "stdout",
     "output_type": "stream",
     "text": [
      "\n",
      "datestr(starts_at) = 14-Jun-2020 08:11:54\n",
      "\n",
      "player 2, episode 9992 of 10000, gradnorm 0.597469, updratio 0.019231, wins [5774 3019], error 0.015142 ↑, ratio 0.522861 ↓\n",
      "datestr(ends_at) = 14-Jun-2020 08:25:27\n",
      "duration = [0 0 0 0 14 -26.707034]\n",
      "notifed = 1\n",
      "\n",
      "playing 100 times randompolicy vs stochastic_policy\n",
      "wins = [54 37]\n",
      "draws = 9\n",
      "playing 100 times randompolicy vs deterministic_policy\n",
      "wins = [44 51]\n",
      "draws = 5\n"
     ]
    },
    {
     "data": {
      "image/png": "[encoded data removed]",
      "text/plain": [
       "<IPython.core.display.Image object>"
      ]
     },
     "metadata": {},
     "output_type": "display_data"
    }
   ],
   "source": [
    "delta_error_signs = [0 0 0];\n",
    "\n",
    "printstart();\n",
    "ratio = iteration(2, 10000);\n",
    "printend(ipynb);\n",
    "\n",
    "play(100, @randompolicy, @stochastic_policy);\n",
    "play(100, @randompolicy, @deterministic_policy);"
   ]
  },
  {
   "cell_type": "code",
   "execution_count": 6,
   "metadata": {},
   "outputs": [
    {
     "name": "stdout",
     "output_type": "stream",
     "text": [
      "\n",
      "datestr(starts_at) = 14-Jun-2020 08:25:40\n",
      "\n",
      "player 2, episode 99990 of 100000, gradnorm 0.588602, updratio 0.009571, wins [58306 29282], error 0.218078 ↑, ratio 0.502212 ↓\n",
      "datestr(ends_at) = 14-Jun-2020 10:41:35\n",
      "duration = [0 0 0 2 16 -4.889505]\n",
      "notifed = 1\n",
      "\n",
      "playing 100 times randompolicy vs stochastic_policy\n",
      "wins = [58 28]\n",
      "draws = 14\n",
      "playing 100 times randompolicy vs deterministic_policy\n",
      "wins = [64 25]\n",
      "draws = 11\n"
     ]
    },
    {
     "data": {
      "image/png": "[encoded data removed]",
      "text/plain": [
       "<IPython.core.display.Image object>"
      ]
     },
     "metadata": {},
     "output_type": "display_data"
    }
   ],
   "source": [
    "delta_error_signs = [0 0 0];\n",
    "\n",
    "printstart();\n",
    "ratio = iteration(2, 100000);\n",
    "printend(ipynb);\n",
    "\n",
    "play(100, @randompolicy, @stochastic_policy);\n",
    "play(100, @randompolicy, @deterministic_policy);"
   ]
  },
  {
   "cell_type": "code",
   "execution_count": null,
   "metadata": {},
   "outputs": [],
   "source": [
    "play(100, @randompolicy);\n",
    "play(100, @randompolicy, @qnnpolicy);"
   ]
  },
  {
   "cell_type": "code",
   "execution_count": null,
   "metadata": {},
   "outputs": [],
   "source": []
  },
  {
   "cell_type": "code",
   "execution_count": null,
   "metadata": {},
   "outputs": [],
   "source": []
  },
  {
   "cell_type": "code",
   "execution_count": null,
   "metadata": {},
   "outputs": [],
   "source": [
    "\n",
    "play(100, @randompolicy);\n",
    "play(100, @randompolicy, @stochastic_policy);\n",
    "play(100, @randompolicy, @deterministic_policy);"
   ]
  },
  {
   "cell_type": "code",
   "execution_count": null,
   "metadata": {},
   "outputs": [],
   "source": []
  },
  {
   "cell_type": "code",
   "execution_count": null,
   "metadata": {},
   "outputs": [],
   "source": [
    "%         if isempty(winner)\n",
    "%             q = qnnestimate(s);\n",
    "%         else\n",
    "%             q = 0;\n",
    "%         end\n",
    "%         y          = zeros(9,1); \n",
    "%         y(prev_a)  = reward + gamma*q;\n",
    "\n"
   ]
  },
  {
   "cell_type": "code",
   "execution_count": null,
   "metadata": {},
   "outputs": [],
   "source": []
  }
 ],
 "metadata": {
  "kernelspec": {
   "display_name": "Octave",
   "language": "octave",
   "name": "octave"
  },
  "language_info": {
   "file_extension": ".m",
   "help_links": [
    {
     "text": "GNU Octave",
     "url": "https://www.gnu.org/software/octave/support.html"
    },
    {
     "text": "Octave Kernel",
     "url": "https://github.com/Calysto/octave_kernel"
    },
    {
     "text": "MetaKernel Magics",
     "url": "https://metakernel.readthedocs.io/en/latest/source/README.html"
    }
   ],
   "mimetype": "text/x-octave",
   "name": "octave",
   "version": "4.2.2"
  }
 },
 "nbformat": 4,
 "nbformat_minor": 2
}

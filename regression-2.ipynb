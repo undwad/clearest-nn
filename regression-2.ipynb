{
 "cells": [
  {
   "cell_type": "code",
   "execution_count": null,
   "metadata": {},
   "outputs": [
    {
     "name": "stdout",
     "output_type": "stream",
     "text": [
      "ans = THE CLEAREST NEURAL NETWORK FRAMEWORK BY UNDWAD\n",
      "X = range [1 2001]\n",
      "Y = matrix [1 2001]\n",
      "BBB = cell [1 16]\n",
      "BBB{1}.X = matrix [1 128]\n",
      "BBB{1}.Y = matrix [1 128]\n",
      "CTX.layers{1}.unit = dense\n",
      "_.unit = dense\n",
      "_.W = matrix [100 1]\n",
      "_.b = matrix [100 1]\n",
      "_.size_x = [1 1]\n",
      "_.size_z = [100 1]\n",
      "_.num_p = 200\n",
      "_.cfg = cell [1 2]\n",
      "CTX.layers{2}.unit = dense\n",
      "_.unit = dense\n",
      "_.W = matrix [1 100]\n",
      "_.b = 0\n",
      "_.size_x = [100 1]\n",
      "_.size_z = [1 1]\n",
      "_.num_p = 101\n",
      "_.cfg = cell [1 2]\n",
      "CTX.optimizers{1}.unit = L2_regularization\n",
      "_.unit = L2_regularization\n",
      "_.rate = 0.001000\n",
      "_.cfg = cell [1 2]\n",
      "CTX.optimizers{2}.unit = gradient_clipping\n",
      "_.unit = gradient_clipping\n",
      "_.maxnorm = 0.330000\n",
      "_.cfg = cell [1 2]\n",
      "CTX.optimizers{3}.unit = adam\n",
      "_.unit = adam\n",
      "_.rate = 0.001000\n",
      "_.beta1 = 0.900000\n",
      "_.beta2 = 0.999000\n",
      "_.eps = 0.000000\n",
      "_.ggg1 = matrix [301 1]\n",
      "_.ggg2 = matrix [301 1]\n",
      "_.times = 0\n",
      "_.cfg = cell [1 2]\n",
      "CTX.optimizers{4}.unit = stats\n",
      "_.unit = stats\n",
      "_.iter = 0\n",
      "_.cfg = stats\n",
      "CTX.objective.unit = mse\n",
      "_.unit = mse\n",
      "_.cfg = mse\n",
      "CTX.num_p = 301\n",
      "\n",
      "starts_at = 10-Jun-2020 14:44:50\n",
      "GRAD_DIFF = 0.000000\n",
      "params_checked = 301\n",
      "\n",
      "1: 0.057409            gradient-norm: 0.231586  update-ratio: 0.006073                            \n",
      "4: 0.020582 ↓          gradient-norm: 0.000211  update-ratio: 0.001038                            \n",
      "5: 0.020615 ↑          gradient-norm: 0.023071  update-ratio: 0.000723                            \n",
      "7: 0.020568 ↓          gradient-norm: 0.019745  update-ratio: 0.000913                            \n",
      "8: 0.020593 ↑          gradient-norm: 0.022352  update-ratio: 0.000940                            \n",
      "9: 0.020587 ↓          gradient-norm: 0.021717  update-ratio: 0.000978                            \n",
      "81: 0.020629 ↑         gradient-norm: 0.019104  update-ratio: 0.001628                            \n",
      "93: 0.020628 ↓         gradient-norm: 0.018841  update-ratio: 0.001683                            "
     ]
    }
   ],
   "source": [
    "global ipynb = 'regression-2';\n",
    "\n",
    "source('clearest-nn.m');\n",
    "source('utils-logging.m');\n",
    "source('utils-training.m');\n",
    "\n",
    "rand('state', 1);\n",
    "\n",
    "f = @(x) 0.2 + 0.4*x.^2 + 0.3*x.*sin(15*x) + 0.05.*cos(50.*x);\n",
    "X = -1:+0.001:1;\n",
    "Y = f(X);\n",
    "\n",
    "printsize('X');\n",
    "printsize('Y');\n",
    "\n",
    "[X, Y] = shuffle(X, Y);\n",
    "\n",
    "BBB = minibatches(X, Y, 128);\n",
    "\n",
    "printsize('BBB');\n",
    "printsize('BBB{1}.X');\n",
    "printsize('BBB{1}.Y');\n",
    "\n",
    "CTX = model(1, {'dense', 100}, {'dense', 1});\n",
    "\n",
    "CTX = optimization( CTX\n",
    "                  , {'L2_regularization', 0.001}\n",
    "                  , {'gradient_clipping', 0.33}      \n",
    "                  , {'adam', 0.001}\n",
    "%                   , 'rprop'\n",
    "                  , 'stats'\n",
    "                  );\n",
    "\n",
    "CTX = objective(CTX, 'mse');\n",
    "\n",
    "printmodel('CTX');\n",
    "\n",
    "CTX = TRAIN(CTX, BBB, times=100001);\n",
    "\n",
    "Z = predict(CTX, X);\n",
    "figure;\n",
    "hold on;\n",
    "scatter(X, Y, 'g');\n",
    "scatter(X, Z, 'b');\n",
    "title('test');\n"
   ]
  },
  {
   "cell_type": "code",
   "execution_count": null,
   "metadata": {},
   "outputs": [],
   "source": []
  },
  {
   "cell_type": "code",
   "execution_count": null,
   "metadata": {},
   "outputs": [],
   "source": []
  }
 ],
 "metadata": {
  "kernelspec": {
   "display_name": "Octave",
   "language": "octave",
   "name": "octave"
  },
  "language_info": {
   "file_extension": ".m",
   "help_links": [
    {
     "text": "GNU Octave",
     "url": "https://www.gnu.org/software/octave/support.html"
    },
    {
     "text": "Octave Kernel",
     "url": "https://github.com/Calysto/octave_kernel"
    },
    {
     "text": "MetaKernel Magics",
     "url": "https://metakernel.readthedocs.io/en/latest/source/README.html"
    }
   ],
   "mimetype": "text/x-octave",
   "name": "octave",
   "version": "4.2.2"
  }
 },
 "nbformat": 4,
 "nbformat_minor": 2
}

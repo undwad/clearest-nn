{
 "cells": [
  {
   "cell_type": "code",
   "execution_count": 1,
   "metadata": {
    "scrolled": true
   },
   "outputs": [
    {
     "name": "stdout",
     "output_type": "stream",
     "text": [
      "ans = THE CLEAREST NEURAL NETWORK FRAMEWORK BY UNDWAD\n",
      "classes = [0 1 2 3 4 5 6 7 8 9]\n",
      "oh = 1\n",
      "X = matrix [28 28 1 70000]\n",
      "Y = matrix [1 70000]\n",
      "oh_ = 1\n",
      "X_ = matrix [28 28 1 11110]\n",
      "Y_ = matrix [1 11110]\n",
      "Yoh_ = matrix [10 11110]\n",
      "unique(Y_) = [0 1 2 3 4 5 6 7 8 9]\n",
      "X1 = matrix [28 28 1 9999]\n",
      "Y1 = matrix [1 9999]\n",
      "Y1oh = matrix [10 9999]\n",
      "X2 = matrix [28 28 1 1111]\n",
      "Y2 = matrix [1 1111]\n",
      "Y2oh = matrix [10 1111]\n",
      "unique(Y1) = [0 1 2 3 4 5 6 7 8 9]\n",
      "unique(Y2) = [0 1 2 3 4 5 6 7 8 9]\n",
      "BBB = cell [1 313]\n",
      "BBB{1}.X = matrix [28 28 1 32]\n",
      "BBB{1}.Y = matrix [10 32]\n"
     ]
    },
    {
     "data": {
      "image/png": "[encoded data removed]",
      "text/plain": [
       "<IPython.core.display.Image object>"
      ]
     },
     "metadata": {},
     "output_type": "display_data"
    }
   ],
   "source": [
    "clear all;\n",
    "\n",
    "global ipynb = 'mnist-conv2D-test';\n",
    "\n",
    "source('clearest-nn.m');\n",
    "source('utils-logging.m');\n",
    "source('utils-training.m');\n",
    "\n",
    "% log2file(tmp('log'));\n",
    "\n",
    "##########################################\n",
    "\n",
    "mnist     = load('datasets/mnist-original.mat');\n",
    "X         = mnist.data;\n",
    "X         = reshape(X, 28, 28, 1, []);\n",
    "Y         = mnist.label;\n",
    "X         = double(X) / 255;\n",
    "classes   = unique(Y); printvar('classes');\n",
    "Yoh       = onehots(Y, classes);  \n",
    "[X,Y,Yoh] = shuffle(X,Y,Yoh);\n",
    "oh        = all(Y == onecolds(Yoh, classes, -1))\n",
    "printsize('X');\n",
    "printsize('Y');\n",
    "\n",
    "idx = map(@(c) find(Y == c, 1111, 'first'), classes);\n",
    "X_   =   X(:,:,:,idx);\n",
    "Y_   =   Y(:,    idx);\n",
    "Yoh_ = Yoh(:,    idx);\n",
    "[X_,Y_,Yoh_] = shuffle(X_,Y_,Yoh_);\n",
    "oh_          = all(Y_ == onecolds(Yoh_, classes, -1))\n",
    "\n",
    "printsize('X_');\n",
    "printsize('Y_');\n",
    "printsize('Yoh_');\n",
    "printvar('unique(Y_)');\n",
    "\n",
    "m    = fix(count(X_) * 0.9);\n",
    "X1   =   X_(:,:,:,   1:m);\n",
    "Y1   =   Y_(:,       1:m);\n",
    "Y1oh = Yoh_(:,       1:m);\n",
    "X2   =   X_(:,:,:, m+1:end);\n",
    "Y2   =   Y_(:,     m+1:end);\n",
    "Y2oh = Yoh_(:,     m+1:end);\n",
    "\n",
    "printsize('X1');\n",
    "printsize('Y1');\n",
    "printsize('Y1oh');\n",
    "printsize('X2');\n",
    "printsize('Y2');\n",
    "printsize('Y2oh');\n",
    "printvar('unique(Y1)');\n",
    "printvar('unique(Y2)');\n",
    "\n",
    "BBB = minibatches(X1, Y1oh, 32);\n",
    "printsize('BBB');\n",
    "printsize('BBB{1}.X');\n",
    "printsize('BBB{1}.Y');\n",
    "\n",
    "function SHOW(x, y)\n",
    "    figure;\n",
    "    imshow(x);\n",
    "    title(disp(y));\n",
    "end\n",
    "\n",
    "function acc = TEST(CTX, X, Y, classes, alt)\n",
    "    m   = count(X);\n",
    "    Z   = predict(CTX, X);\n",
    "    Z   = maxcolds(Z, classes, alt);\n",
    "    acc = nnz(Z == Y) / m;\n",
    "end\n",
    "\n",
    "function TEST1(CTX, x, classes, alt)\n",
    "    x(:,:,:,2) = x;\n",
    "    z = predict(CTX, x);\n",
    "    x = x(:,:,:,1);\n",
    "    z = z(:,1);\n",
    "    z = maxcolds(z, classes, alt);\n",
    "    SHOW(x, z);\n",
    "end\n",
    "\n",
    "function TESTCTX(path)\n",
    "    printvar('path');\n",
    "    X1      = evalin('caller', 'X1');\n",
    "    Y1      = evalin('caller', 'Y1');\n",
    "    X2      = evalin('caller', 'X2');\n",
    "    Y2      = evalin('caller', 'Y2');\n",
    "    X       = evalin('caller', 'X');\n",
    "    Y       = evalin('caller', 'Y');\n",
    "    classes = evalin('caller', 'classes');\n",
    "    load('-binary', path, 'CTX');\n",
    "%     printmodel('CTX');\n",
    "    train_accuracy = TEST(CTX, X1, Y1, classes, alt=-1); printvar('train_accuracy');\n",
    "    test_accuracy  = TEST(CTX, X2, Y2, classes, alt=-1); printvar('test_accuracy');\n",
    "    mnist_accuracy = TEST(CTX, X,  Y,  classes, alt=-1); printvar('mnist_accuracy');\n",
    "end\n",
    "\n",
    "[x,y] = pick(X1, Y1);\n",
    "SHOW(x,y);\n"
   ]
  },
  {
   "cell_type": "code",
   "execution_count": 2,
   "metadata": {},
   "outputs": [
    {
     "name": "stdout",
     "output_type": "stream",
     "text": [
      "path = tmp/mnist-conv2D-Copy1.ctx\n",
      "train_accuracy = 0.918392\n",
      "test_accuracy = 0.928893\n",
      "mnist_accuracy = 0.919214\n"
     ]
    }
   ],
   "source": [
    "TESTCTX('tmp/mnist-conv2D-Copy1.ctx');"
   ]
  },
  {
   "cell_type": "code",
   "execution_count": 3,
   "metadata": {},
   "outputs": [
    {
     "name": "stdout",
     "output_type": "stream",
     "text": [
      "path = tmp/mnist-conv2D-Copy2.ctx\n",
      "train_accuracy = 0.918392\n",
      "test_accuracy = 0.928893\n",
      "mnist_accuracy = 0.919214\n"
     ]
    }
   ],
   "source": [
    "TESTCTX('tmp/mnist-conv2D-Copy2.ctx');"
   ]
  },
  {
   "cell_type": "code",
   "execution_count": 4,
   "metadata": {},
   "outputs": [
    {
     "name": "stdout",
     "output_type": "stream",
     "text": [
      "path = tmp/mnist-conv2D-Copy3.ctx\n",
      "train_accuracy = 0.931193\n",
      "test_accuracy = 0.937894\n",
      "mnist_accuracy = 0.931400\n"
     ]
    }
   ],
   "source": [
    "TESTCTX('tmp/mnist-conv2D-Copy3.ctx');"
   ]
  },
  {
   "cell_type": "code",
   "execution_count": 5,
   "metadata": {},
   "outputs": [
    {
     "name": "stdout",
     "output_type": "stream",
     "text": [
      "path = tmp/mnist-conv2D-Copy4.ctx\n",
      "train_accuracy = 0.933093\n",
      "test_accuracy = 0.938794\n",
      "mnist_accuracy = 0.932057\n"
     ]
    }
   ],
   "source": [
    "TESTCTX('tmp/mnist-conv2D-Copy4.ctx');"
   ]
  },
  {
   "cell_type": "code",
   "execution_count": 6,
   "metadata": {},
   "outputs": [
    {
     "name": "stdout",
     "output_type": "stream",
     "text": [
      "path = tmp/mnist-conv2D-Copy5.ctx\n",
      "train_accuracy = 0.933293\n",
      "test_accuracy = 0.937894\n",
      "mnist_accuracy = 0.932757\n"
     ]
    }
   ],
   "source": [
    "TESTCTX('tmp/mnist-conv2D-Copy5.ctx');"
   ]
  },
  {
   "cell_type": "code",
   "execution_count": 7,
   "metadata": {},
   "outputs": [
    {
     "name": "stdout",
     "output_type": "stream",
     "text": [
      "path = tmp/mnist-conv2D-Copy6.ctx\n",
      "train_accuracy = 0.934793\n",
      "test_accuracy = 0.936094\n",
      "mnist_accuracy = 0.934771\n"
     ]
    }
   ],
   "source": [
    "TESTCTX('tmp/mnist-conv2D-Copy6.ctx');"
   ]
  },
  {
   "cell_type": "code",
   "execution_count": 8,
   "metadata": {},
   "outputs": [
    {
     "name": "stdout",
     "output_type": "stream",
     "text": [
      "path = tmp/mnist-conv2D-Copy7.ctx\n",
      "train_accuracy = 0.939394\n",
      "test_accuracy = 0.940594\n",
      "mnist_accuracy = 0.938771\n"
     ]
    }
   ],
   "source": [
    "TESTCTX('tmp/mnist-conv2D-Copy7.ctx');"
   ]
  },
  {
   "cell_type": "code",
   "execution_count": 12,
   "metadata": {},
   "outputs": [
    {
     "name": "stdout",
     "output_type": "stream",
     "text": [
      "path = tmp/mnist-conv2D-Copy8.ctx\n",
      "train_accuracy = 0.939394\n",
      "test_accuracy = 0.940594\n",
      "mnist_accuracy = 0.938786\n"
     ]
    }
   ],
   "source": [
    "TESTCTX('tmp/mnist-conv2D-Copy8.ctx');"
   ]
  },
  {
   "cell_type": "code",
   "execution_count": 13,
   "metadata": {},
   "outputs": [
    {
     "name": "stdout",
     "output_type": "stream",
     "text": [
      "path = tmp/mnist-conv2D-Copy9.ctx\n",
      "train_accuracy = 0.939094\n",
      "test_accuracy = 0.940594\n",
      "mnist_accuracy = 0.938729\n"
     ]
    }
   ],
   "source": [
    "TESTCTX('tmp/mnist-conv2D-Copy9.ctx');"
   ]
  },
  {
   "cell_type": "code",
   "execution_count": 15,
   "metadata": {},
   "outputs": [
    {
     "name": "stdout",
     "output_type": "stream",
     "text": [
      "path = tmp/mnist-conv2D-Copy10.ctx\n",
      "train_accuracy = 0.939394\n",
      "test_accuracy = 0.941494\n",
      "mnist_accuracy = 0.939043\n"
     ]
    }
   ],
   "source": [
    "TESTCTX('tmp/mnist-conv2D-Copy10.ctx');"
   ]
  },
  {
   "cell_type": "code",
   "execution_count": 22,
   "metadata": {},
   "outputs": [
    {
     "name": "stdout",
     "output_type": "stream",
     "text": [
      "path = tmp/mnist-conv2D-Copy11.ctx\n",
      "train_accuracy = 0.939594\n",
      "test_accuracy = 0.941494\n",
      "mnist_accuracy = 0.938914\n"
     ]
    }
   ],
   "source": [
    "TESTCTX('tmp/mnist-conv2D-Copy11.ctx');"
   ]
  },
  {
   "cell_type": "code",
   "execution_count": 24,
   "metadata": {},
   "outputs": [
    {
     "name": "stdout",
     "output_type": "stream",
     "text": [
      "path = tmp/mnist-conv2D-Copy12.ctx\n",
      "train_accuracy = 0.938894\n",
      "test_accuracy = 0.938794\n",
      "mnist_accuracy = 0.939271\n"
     ]
    }
   ],
   "source": [
    "TESTCTX('tmp/mnist-conv2D-Copy12.ctx');"
   ]
  },
  {
   "cell_type": "code",
   "execution_count": 31,
   "metadata": {},
   "outputs": [
    {
     "name": "stdout",
     "output_type": "stream",
     "text": [
      "path = tmp/mnist-conv2D-Copy13.ctx\n",
      "train_accuracy = 0.938294\n",
      "test_accuracy = 0.942394\n",
      "mnist_accuracy = 0.938929\n"
     ]
    }
   ],
   "source": [
    "TESTCTX('tmp/mnist-conv2D-Copy13.ctx');"
   ]
  },
  {
   "cell_type": "code",
   "execution_count": null,
   "metadata": {},
   "outputs": [],
   "source": []
  },
  {
   "cell_type": "code",
   "execution_count": 37,
   "metadata": {},
   "outputs": [
    {
     "name": "stdout",
     "output_type": "stream",
     "text": [
      "path = tmp/mnist-conv2D.ctx\n",
      "train_accuracy = 0.936494\n",
      "test_accuracy = 0.942394\n",
      "mnist_accuracy = 0.937029\n"
     ]
    }
   ],
   "source": [
    "TESTCTX('tmp/mnist-conv2D.ctx');"
   ]
  },
  {
   "cell_type": "code",
   "execution_count": null,
   "metadata": {},
   "outputs": [],
   "source": [
    "% load('-binary', 'tmp/mnist-conv2D-momentum-0.949.ctx', 'CTX');\n",
    "% CTX.layers = updateunit(CTX.layers, 'reshape', 'flatten', 1);\n",
    "% printmodel('CTX');\n",
    "% save('-binary', 'tmp/mnist-conv2D-momentum-0.949-fixed.ctx', 'CTX');"
   ]
  },
  {
   "cell_type": "code",
   "execution_count": 6,
   "metadata": {},
   "outputs": [
    {
     "name": "stdout",
     "output_type": "stream",
     "text": [
      "path = tmp/mnist-conv2D-momentum-0.949-fixed.ctx\n",
      "train_accuracy = 0.946795\n",
      "test_accuracy = 0.945995\n",
      "mnist_accuracy = 0.949357\n"
     ]
    }
   ],
   "source": [
    "TESTCTX('tmp/mnist-conv2D-momentum-0.949-fixed.ctx');"
   ]
  },
  {
   "cell_type": "code",
   "execution_count": 11,
   "metadata": {},
   "outputs": [
    {
     "name": "stdout",
     "output_type": "stream",
     "text": [
      "notifed = 1\r\n"
     ]
    }
   ],
   "source": [
    "notifed = pushnotify([ipynb ' TESTING FINISHED'])"
   ]
  },
  {
   "cell_type": "code",
   "execution_count": null,
   "metadata": {},
   "outputs": [],
   "source": []
  }
 ],
 "metadata": {
  "kernelspec": {
   "display_name": "Octave",
   "language": "octave",
   "name": "octave"
  },
  "language_info": {
   "file_extension": ".m",
   "help_links": [
    {
     "text": "GNU Octave",
     "url": "https://www.gnu.org/software/octave/support.html"
    },
    {
     "text": "Octave Kernel",
     "url": "https://github.com/Calysto/octave_kernel"
    },
    {
     "text": "MetaKernel Magics",
     "url": "https://metakernel.readthedocs.io/en/latest/source/README.html"
    }
   ],
   "mimetype": "text/x-octave",
   "name": "octave",
   "version": "4.2.2"
  }
 },
 "nbformat": 4,
 "nbformat_minor": 2
}
